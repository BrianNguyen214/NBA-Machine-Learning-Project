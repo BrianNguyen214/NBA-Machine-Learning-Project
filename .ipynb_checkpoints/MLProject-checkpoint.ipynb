{
 "cells": [
  {
   "cell_type": "markdown",
   "metadata": {},
   "source": [
    "# CSCI 4622 Machine Learning Final Project\n",
    "\n",
    "### Holden Kjerland-Nicoletti, Brian Nguyen\n",
    "\n",
    "For this project we will be using a kaggle data set that contains NBA regular season team statistics dating back to 2000 to make predictions on the number of playoff wins a team will have. This is better than just picking the NBA champion because only 1 out of the 30 teams win the NBA championship each year, so it is hard to predict.\n",
    "\n",
    "*NOTE: Our project has changed slightly from our project proposal, we have decided to use team data rather than individual player statistics."
   ]
  },
  {
   "cell_type": "code",
   "execution_count": 1,
   "metadata": {},
   "outputs": [],
   "source": [
    "import numpy as np \n",
    "import pandas as pd \n",
    "import matplotlib.pyplot as plt\n",
    "import seaborn as sns\n",
    "import pickle\n",
    "import copy\n",
    "%matplotlib inline"
   ]
  },
  {
   "cell_type": "markdown",
   "metadata": {},
   "source": [
    "## Data/Data Cleaning\n",
    "\n",
    "The data for this project was acquired in two different ways:\n",
    "\n",
    "* Regular season team statistics were acquired from the following kaggle dataset https://www.kaggle.com/mharvnek/nba-team-stats-00-to-18\n",
    "\n",
    "* Playoff wins were acquired from scraping nba https://stats.nba.com/teams/traditional playoff stats. This was very difficult as neither of us have had any experience scraping websites. The jupyter notebook used to scrape is 'web_scrape_playoff_wins.ipynb' in the github"
   ]
  },
  {
   "cell_type": "markdown",
   "metadata": {},
   "source": [
    "### Playoff wins data\n",
    "\n",
    "This data has already been mostly cleaned in \"web_scrap_playoff_wins.ipynb\" script. We now need to drop the columns: games played and losses. We also need to drop rows before 2001, as the regular season statistics only go back that far. We also need to map old team names to their new team names, for example the Charlotte Bobcats to the Charlotte Hornets"
   ]
  },
  {
   "cell_type": "code",
   "execution_count": 2,
   "metadata": {},
   "outputs": [
    {
     "data": {
      "text/html": [
       "<div>\n",
       "<style scoped>\n",
       "    .dataframe tbody tr th:only-of-type {\n",
       "        vertical-align: middle;\n",
       "    }\n",
       "\n",
       "    .dataframe tbody tr th {\n",
       "        vertical-align: top;\n",
       "    }\n",
       "\n",
       "    .dataframe thead th {\n",
       "        text-align: right;\n",
       "    }\n",
       "</style>\n",
       "<table border=\"1\" class=\"dataframe\">\n",
       "  <thead>\n",
       "    <tr style=\"text-align: right;\">\n",
       "      <th></th>\n",
       "      <th>Unnamed: 0</th>\n",
       "      <th>Season</th>\n",
       "      <th>Team</th>\n",
       "      <th>gp</th>\n",
       "      <th>W</th>\n",
       "      <th>L</th>\n",
       "    </tr>\n",
       "  </thead>\n",
       "  <tbody>\n",
       "    <tr>\n",
       "      <th>0</th>\n",
       "      <td>0</td>\n",
       "      <td>2018</td>\n",
       "      <td>Milwaukee Bucks</td>\n",
       "      <td>15.0</td>\n",
       "      <td>10.0</td>\n",
       "      <td>5.0</td>\n",
       "    </tr>\n",
       "    <tr>\n",
       "      <th>1</th>\n",
       "      <td>1</td>\n",
       "      <td>2018</td>\n",
       "      <td>Toronto Raptors</td>\n",
       "      <td>24.0</td>\n",
       "      <td>16.0</td>\n",
       "      <td>8.0</td>\n",
       "    </tr>\n",
       "    <tr>\n",
       "      <th>2</th>\n",
       "      <td>2</td>\n",
       "      <td>2018</td>\n",
       "      <td>Golden State Warriors</td>\n",
       "      <td>22.0</td>\n",
       "      <td>14.0</td>\n",
       "      <td>8.0</td>\n",
       "    </tr>\n",
       "    <tr>\n",
       "      <th>3</th>\n",
       "      <td>3</td>\n",
       "      <td>2018</td>\n",
       "      <td>Philadelphia 76ers</td>\n",
       "      <td>12.0</td>\n",
       "      <td>7.0</td>\n",
       "      <td>5.0</td>\n",
       "    </tr>\n",
       "    <tr>\n",
       "      <th>4</th>\n",
       "      <td>4</td>\n",
       "      <td>2018</td>\n",
       "      <td>Boston Celtics</td>\n",
       "      <td>9.0</td>\n",
       "      <td>5.0</td>\n",
       "      <td>4.0</td>\n",
       "    </tr>\n",
       "  </tbody>\n",
       "</table>\n",
       "</div>"
      ],
      "text/plain": [
       "   Unnamed: 0  Season                   Team    gp     W    L\n",
       "0           0    2018        Milwaukee Bucks  15.0  10.0  5.0\n",
       "1           1    2018        Toronto Raptors  24.0  16.0  8.0\n",
       "2           2    2018  Golden State Warriors  22.0  14.0  8.0\n",
       "3           3    2018     Philadelphia 76ers  12.0   7.0  5.0\n",
       "4           4    2018         Boston Celtics   9.0   5.0  4.0"
      ]
     },
     "execution_count": 2,
     "metadata": {},
     "output_type": "execute_result"
    }
   ],
   "source": [
    "playoffs = pd.read_csv('data/playoff_wins.csv')\n",
    "playoffs.head()"
   ]
  },
  {
   "cell_type": "code",
   "execution_count": 3,
   "metadata": {},
   "outputs": [
    {
     "data": {
      "text/html": [
       "<div>\n",
       "<style scoped>\n",
       "    .dataframe tbody tr th:only-of-type {\n",
       "        vertical-align: middle;\n",
       "    }\n",
       "\n",
       "    .dataframe tbody tr th {\n",
       "        vertical-align: top;\n",
       "    }\n",
       "\n",
       "    .dataframe thead th {\n",
       "        text-align: right;\n",
       "    }\n",
       "</style>\n",
       "<table border=\"1\" class=\"dataframe\">\n",
       "  <thead>\n",
       "    <tr style=\"text-align: right;\">\n",
       "      <th></th>\n",
       "      <th>Season</th>\n",
       "      <th>Team</th>\n",
       "      <th>W</th>\n",
       "    </tr>\n",
       "  </thead>\n",
       "  <tbody>\n",
       "    <tr>\n",
       "      <th>0</th>\n",
       "      <td>2018</td>\n",
       "      <td>Milwaukee Bucks</td>\n",
       "      <td>10.0</td>\n",
       "    </tr>\n",
       "    <tr>\n",
       "      <th>1</th>\n",
       "      <td>2018</td>\n",
       "      <td>Toronto Raptors</td>\n",
       "      <td>16.0</td>\n",
       "    </tr>\n",
       "    <tr>\n",
       "      <th>2</th>\n",
       "      <td>2018</td>\n",
       "      <td>Golden State Warriors</td>\n",
       "      <td>14.0</td>\n",
       "    </tr>\n",
       "    <tr>\n",
       "      <th>3</th>\n",
       "      <td>2018</td>\n",
       "      <td>Philadelphia 76ers</td>\n",
       "      <td>7.0</td>\n",
       "    </tr>\n",
       "    <tr>\n",
       "      <th>4</th>\n",
       "      <td>2018</td>\n",
       "      <td>Boston Celtics</td>\n",
       "      <td>5.0</td>\n",
       "    </tr>\n",
       "    <tr>\n",
       "      <th>5</th>\n",
       "      <td>2018</td>\n",
       "      <td>Houston Rockets</td>\n",
       "      <td>6.0</td>\n",
       "    </tr>\n",
       "    <tr>\n",
       "      <th>6</th>\n",
       "      <td>2018</td>\n",
       "      <td>Denver Nuggets</td>\n",
       "      <td>7.0</td>\n",
       "    </tr>\n",
       "    <tr>\n",
       "      <th>7</th>\n",
       "      <td>2018</td>\n",
       "      <td>Portland Trail Blazers</td>\n",
       "      <td>8.0</td>\n",
       "    </tr>\n",
       "    <tr>\n",
       "      <th>8</th>\n",
       "      <td>2018</td>\n",
       "      <td>San Antonio Spurs</td>\n",
       "      <td>3.0</td>\n",
       "    </tr>\n",
       "    <tr>\n",
       "      <th>9</th>\n",
       "      <td>2018</td>\n",
       "      <td>LA Clippers</td>\n",
       "      <td>2.0</td>\n",
       "    </tr>\n",
       "  </tbody>\n",
       "</table>\n",
       "</div>"
      ],
      "text/plain": [
       "   Season                    Team     W\n",
       "0    2018         Milwaukee Bucks  10.0\n",
       "1    2018         Toronto Raptors  16.0\n",
       "2    2018   Golden State Warriors  14.0\n",
       "3    2018      Philadelphia 76ers   7.0\n",
       "4    2018          Boston Celtics   5.0\n",
       "5    2018         Houston Rockets   6.0\n",
       "6    2018          Denver Nuggets   7.0\n",
       "7    2018  Portland Trail Blazers   8.0\n",
       "8    2018       San Antonio Spurs   3.0\n",
       "9    2018             LA Clippers   2.0"
      ]
     },
     "execution_count": 3,
     "metadata": {},
     "output_type": "execute_result"
    }
   ],
   "source": [
    "# we're removing these columns since they aren't necessary for what we are trying accomplish\n",
    "playoff_wins = playoffs.drop(['gp', 'Unnamed: 0', 'L'], axis = 1) \n",
    "playoff_wins.head(10)"
   ]
  },
  {
   "cell_type": "code",
   "execution_count": 4,
   "metadata": {},
   "outputs": [
    {
     "data": {
      "text/html": [
       "<div>\n",
       "<style scoped>\n",
       "    .dataframe tbody tr th:only-of-type {\n",
       "        vertical-align: middle;\n",
       "    }\n",
       "\n",
       "    .dataframe tbody tr th {\n",
       "        vertical-align: top;\n",
       "    }\n",
       "\n",
       "    .dataframe thead th {\n",
       "        text-align: right;\n",
       "    }\n",
       "</style>\n",
       "<table border=\"1\" class=\"dataframe\">\n",
       "  <thead>\n",
       "    <tr style=\"text-align: right;\">\n",
       "      <th></th>\n",
       "      <th>Season</th>\n",
       "      <th>Team</th>\n",
       "      <th>W</th>\n",
       "    </tr>\n",
       "  </thead>\n",
       "  <tbody>\n",
       "    <tr>\n",
       "      <th>299</th>\n",
       "      <td>2000</td>\n",
       "      <td>Minnesota Timberwolves</td>\n",
       "      <td>1.0</td>\n",
       "    </tr>\n",
       "    <tr>\n",
       "      <th>300</th>\n",
       "      <td>2000</td>\n",
       "      <td>Orlando Magic</td>\n",
       "      <td>1.0</td>\n",
       "    </tr>\n",
       "    <tr>\n",
       "      <th>301</th>\n",
       "      <td>2000</td>\n",
       "      <td>Phoenix Suns</td>\n",
       "      <td>1.0</td>\n",
       "    </tr>\n",
       "    <tr>\n",
       "      <th>302</th>\n",
       "      <td>2000</td>\n",
       "      <td>Miami Heat</td>\n",
       "      <td>0.0</td>\n",
       "    </tr>\n",
       "    <tr>\n",
       "      <th>303</th>\n",
       "      <td>2000</td>\n",
       "      <td>Portland Trail Blazers</td>\n",
       "      <td>0.0</td>\n",
       "    </tr>\n",
       "  </tbody>\n",
       "</table>\n",
       "</div>"
      ],
      "text/plain": [
       "     Season                    Team    W\n",
       "299    2000  Minnesota Timberwolves  1.0\n",
       "300    2000           Orlando Magic  1.0\n",
       "301    2000            Phoenix Suns  1.0\n",
       "302    2000              Miami Heat  0.0\n",
       "303    2000  Portland Trail Blazers  0.0"
      ]
     },
     "execution_count": 4,
     "metadata": {},
     "output_type": "execute_result"
    }
   ],
   "source": [
    "# we're only keeping the data from year 2000 and above since we want to merge our two datasets together\n",
    "# and the other dataset only contains years of 2000 and above\n",
    "playoff_wins = playoff_wins[playoff_wins.Season >= 2000]\n",
    "playoff_wins.tail()"
   ]
  },
  {
   "cell_type": "code",
   "execution_count": 5,
   "metadata": {},
   "outputs": [
    {
     "name": "stdout",
     "output_type": "stream",
     "text": [
      "The old and new playoffs data have the same number of rows of 304\n"
     ]
    }
   ],
   "source": [
    "# checking to see if there are any NaN values\n",
    "numRowsOrig = len(playoff_wins)\n",
    "copyPOWData = copy.deepcopy(playoff_wins)\n",
    "playOffWinsClean = copyPOWData.dropna()\n",
    "numRowsNew = len(playOffWinsClean)\n",
    "\n",
    "# luckily, there weren't any missing or NaN values in the data set, so we didn't need to impute any data\n",
    "if numRowsOrig == numRowsNew:\n",
    "    print(f'The old and new playoffs data have the same number of rows of {numRowsOrig}')\n",
    "else:\n",
    "    print(f'The old playoffs data has this many rows {numRowsOrig} and the new playoffs data {numRowsNew}')"
   ]
  },
  {
   "cell_type": "code",
   "execution_count": 6,
   "metadata": {},
   "outputs": [
    {
     "name": "stdout",
     "output_type": "stream",
     "text": [
      "There are a total of 35\n",
      "Charlotte Bobcats\n",
      "New Orleans Hornets\n",
      "Los Angeles Clippers\n",
      "Washington Wizards\n",
      "Boston Celtics\n",
      "Denver Nuggets\n",
      "Philadelphia 76ers\n",
      "Utah Jazz\n",
      "Memphis Grizzlies\n",
      "Sacramento Kings\n",
      "Toronto Raptors\n",
      "Houston Rockets\n",
      "Charlotte Hornets\n",
      "Milwaukee Bucks\n",
      "San Antonio Spurs\n",
      "Phoenix Suns\n",
      "Dallas Mavericks\n",
      "Chicago Bulls\n",
      "Atlanta Hawks\n",
      "Brooklyn Nets\n",
      "Portland Trail Blazers\n",
      "Golden State Warriors\n",
      "Detroit Pistons\n",
      "New Orleans Pelicans\n",
      "Seattle SuperSonics\n",
      "Orlando Magic\n",
      "Minnesota Timberwolves\n",
      "LA Clippers\n",
      "Miami Heat\n",
      "New Jersey Nets\n",
      "Cleveland Cavaliers\n",
      "New York Knicks\n",
      "Oklahoma City Thunder\n",
      "Indiana Pacers\n",
      "Los Angeles Lakers\n"
     ]
    }
   ],
   "source": [
    "allPFTeams = set(playOffWinsClean['Team'])\n",
    "print(f'There are a total of {len(allPFTeams)}')\n",
    "\n",
    "# from this, you can see that there are old team names\n",
    "# thus, we'll replace the old team names with the new/current ones\n",
    "for i in allPFTeams:\n",
    "    print(i)"
   ]
  },
  {
   "cell_type": "code",
   "execution_count": 7,
   "metadata": {},
   "outputs": [],
   "source": [
    "mappingOldToNew = [\n",
    "    ['Charlotte Bobcats', 'Charlotte Hornets'],\n",
    "    ['New Orleans Hornets', 'New Orleans Pelicans'],\n",
    "    ['New Orleans/Oklahoma City Hornets', 'New Orleans Pelicans'],\n",
    "    ['Seattle SuperSonics', 'Oklahoma City Thunder'],\n",
    "    ['Vancouver Grizzlies', 'Memphis Grizzlies'],\n",
    "    ['New Jersey Nets', 'Brooklyn Nets'],\n",
    "    ['LA Clippers', 'Los Angeles Clippers']\n",
    "]\n",
    "\n",
    "for i in range(len(mappingOldToNew)):\n",
    "    playOffWinsClean = playOffWinsClean.replace(to_replace = mappingOldToNew[i][0], value = mappingOldToNew[i][1])"
   ]
  },
  {
   "cell_type": "code",
   "execution_count": 8,
   "metadata": {},
   "outputs": [
    {
     "name": "stdout",
     "output_type": "stream",
     "text": [
      "There are a total of 30\n",
      "Los Angeles Clippers\n",
      "Washington Wizards\n",
      "Boston Celtics\n",
      "Denver Nuggets\n",
      "Philadelphia 76ers\n",
      "Utah Jazz\n",
      "Memphis Grizzlies\n",
      "Sacramento Kings\n",
      "Toronto Raptors\n",
      "Houston Rockets\n",
      "Charlotte Hornets\n",
      "Milwaukee Bucks\n",
      "San Antonio Spurs\n",
      "Phoenix Suns\n",
      "Dallas Mavericks\n",
      "Chicago Bulls\n",
      "Atlanta Hawks\n",
      "Brooklyn Nets\n",
      "Portland Trail Blazers\n",
      "Golden State Warriors\n",
      "Detroit Pistons\n",
      "New Orleans Pelicans\n",
      "Orlando Magic\n",
      "Minnesota Timberwolves\n",
      "Miami Heat\n",
      "Cleveland Cavaliers\n",
      "New York Knicks\n",
      "Oklahoma City Thunder\n",
      "Indiana Pacers\n",
      "Los Angeles Lakers\n"
     ]
    }
   ],
   "source": [
    "# to verify if the mapping worked\n",
    "allPFTeams = set(playOffWinsClean['Team'])\n",
    "numTeams = len(allPFTeams)\n",
    "print(f'There are a total of {numTeams}')\n",
    "\n",
    "# it worked\n",
    "for i in allPFTeams:\n",
    "    print(i)"
   ]
  },
  {
   "cell_type": "markdown",
   "metadata": {},
   "source": [
    "### Regular Season Statistics\n",
    "\n",
    "There are a couple data cleaning tasks we need to do for this. First, is to change the Season from spanning 2 years (like '2018-19') to just the earlier year ('2018'). Next, we need to convert old team names to their new team name, for example the Charlotted Bobcats to the Charlotte Hornets"
   ]
  },
  {
   "cell_type": "code",
   "execution_count": 9,
   "metadata": {},
   "outputs": [
    {
     "data": {
      "text/html": [
       "<div>\n",
       "<style scoped>\n",
       "    .dataframe tbody tr th:only-of-type {\n",
       "        vertical-align: middle;\n",
       "    }\n",
       "\n",
       "    .dataframe tbody tr th {\n",
       "        vertical-align: top;\n",
       "    }\n",
       "\n",
       "    .dataframe thead th {\n",
       "        text-align: right;\n",
       "    }\n",
       "</style>\n",
       "<table border=\"1\" class=\"dataframe\">\n",
       "  <thead>\n",
       "    <tr style=\"text-align: right;\">\n",
       "      <th></th>\n",
       "      <th>TEAM</th>\n",
       "      <th>GP</th>\n",
       "      <th>W</th>\n",
       "      <th>L</th>\n",
       "      <th>WIN%</th>\n",
       "      <th>MIN</th>\n",
       "      <th>PTS</th>\n",
       "      <th>FGM</th>\n",
       "      <th>FGA</th>\n",
       "      <th>FG%</th>\n",
       "      <th>...</th>\n",
       "      <th>REB</th>\n",
       "      <th>AST</th>\n",
       "      <th>TOV</th>\n",
       "      <th>STL</th>\n",
       "      <th>BLK</th>\n",
       "      <th>BLKA</th>\n",
       "      <th>PF</th>\n",
       "      <th>PFD</th>\n",
       "      <th>+/-</th>\n",
       "      <th>SEASON</th>\n",
       "    </tr>\n",
       "  </thead>\n",
       "  <tbody>\n",
       "    <tr>\n",
       "      <th>0</th>\n",
       "      <td>Atlanta Hawks</td>\n",
       "      <td>82</td>\n",
       "      <td>29</td>\n",
       "      <td>53</td>\n",
       "      <td>0.354</td>\n",
       "      <td>48.4</td>\n",
       "      <td>113.3</td>\n",
       "      <td>41.4</td>\n",
       "      <td>91.8</td>\n",
       "      <td>45.1</td>\n",
       "      <td>...</td>\n",
       "      <td>46.1</td>\n",
       "      <td>25.8</td>\n",
       "      <td>17.0</td>\n",
       "      <td>8.2</td>\n",
       "      <td>5.1</td>\n",
       "      <td>5.5</td>\n",
       "      <td>23.6</td>\n",
       "      <td>22.2</td>\n",
       "      <td>-6.0</td>\n",
       "      <td>2018-19</td>\n",
       "    </tr>\n",
       "    <tr>\n",
       "      <th>1</th>\n",
       "      <td>Boston Celtics</td>\n",
       "      <td>82</td>\n",
       "      <td>49</td>\n",
       "      <td>33</td>\n",
       "      <td>0.598</td>\n",
       "      <td>48.2</td>\n",
       "      <td>112.4</td>\n",
       "      <td>42.1</td>\n",
       "      <td>90.5</td>\n",
       "      <td>46.5</td>\n",
       "      <td>...</td>\n",
       "      <td>44.5</td>\n",
       "      <td>26.3</td>\n",
       "      <td>12.8</td>\n",
       "      <td>8.6</td>\n",
       "      <td>5.3</td>\n",
       "      <td>3.9</td>\n",
       "      <td>20.4</td>\n",
       "      <td>19.5</td>\n",
       "      <td>4.4</td>\n",
       "      <td>2018-19</td>\n",
       "    </tr>\n",
       "    <tr>\n",
       "      <th>2</th>\n",
       "      <td>Brooklyn Nets</td>\n",
       "      <td>82</td>\n",
       "      <td>42</td>\n",
       "      <td>40</td>\n",
       "      <td>0.512</td>\n",
       "      <td>48.7</td>\n",
       "      <td>112.2</td>\n",
       "      <td>40.3</td>\n",
       "      <td>89.7</td>\n",
       "      <td>44.9</td>\n",
       "      <td>...</td>\n",
       "      <td>46.6</td>\n",
       "      <td>23.8</td>\n",
       "      <td>15.1</td>\n",
       "      <td>6.6</td>\n",
       "      <td>4.1</td>\n",
       "      <td>5.3</td>\n",
       "      <td>21.5</td>\n",
       "      <td>22.0</td>\n",
       "      <td>-0.1</td>\n",
       "      <td>2018-19</td>\n",
       "    </tr>\n",
       "    <tr>\n",
       "      <th>3</th>\n",
       "      <td>Charlotte Hornets</td>\n",
       "      <td>82</td>\n",
       "      <td>39</td>\n",
       "      <td>43</td>\n",
       "      <td>0.476</td>\n",
       "      <td>48.4</td>\n",
       "      <td>110.7</td>\n",
       "      <td>40.2</td>\n",
       "      <td>89.8</td>\n",
       "      <td>44.8</td>\n",
       "      <td>...</td>\n",
       "      <td>43.8</td>\n",
       "      <td>23.2</td>\n",
       "      <td>12.2</td>\n",
       "      <td>7.2</td>\n",
       "      <td>4.9</td>\n",
       "      <td>6.0</td>\n",
       "      <td>18.9</td>\n",
       "      <td>20.6</td>\n",
       "      <td>-1.1</td>\n",
       "      <td>2018-19</td>\n",
       "    </tr>\n",
       "    <tr>\n",
       "      <th>4</th>\n",
       "      <td>Chicago Bulls</td>\n",
       "      <td>82</td>\n",
       "      <td>22</td>\n",
       "      <td>60</td>\n",
       "      <td>0.268</td>\n",
       "      <td>48.5</td>\n",
       "      <td>104.9</td>\n",
       "      <td>39.8</td>\n",
       "      <td>87.9</td>\n",
       "      <td>45.3</td>\n",
       "      <td>...</td>\n",
       "      <td>42.9</td>\n",
       "      <td>21.9</td>\n",
       "      <td>14.1</td>\n",
       "      <td>7.4</td>\n",
       "      <td>4.3</td>\n",
       "      <td>5.8</td>\n",
       "      <td>20.3</td>\n",
       "      <td>18.7</td>\n",
       "      <td>-8.4</td>\n",
       "      <td>2018-19</td>\n",
       "    </tr>\n",
       "  </tbody>\n",
       "</table>\n",
       "<p>5 rows × 28 columns</p>\n",
       "</div>"
      ],
      "text/plain": [
       "                TEAM  GP   W   L   WIN%   MIN    PTS   FGM   FGA   FG%  ...  \\\n",
       "0      Atlanta Hawks  82  29  53  0.354  48.4  113.3  41.4  91.8  45.1  ...   \n",
       "1     Boston Celtics  82  49  33  0.598  48.2  112.4  42.1  90.5  46.5  ...   \n",
       "2      Brooklyn Nets  82  42  40  0.512  48.7  112.2  40.3  89.7  44.9  ...   \n",
       "3  Charlotte Hornets  82  39  43  0.476  48.4  110.7  40.2  89.8  44.8  ...   \n",
       "4      Chicago Bulls  82  22  60  0.268  48.5  104.9  39.8  87.9  45.3  ...   \n",
       "\n",
       "    REB   AST   TOV  STL  BLK  BLKA    PF   PFD  +/-   SEASON  \n",
       "0  46.1  25.8  17.0  8.2  5.1   5.5  23.6  22.2 -6.0  2018-19  \n",
       "1  44.5  26.3  12.8  8.6  5.3   3.9  20.4  19.5  4.4  2018-19  \n",
       "2  46.6  23.8  15.1  6.6  4.1   5.3  21.5  22.0 -0.1  2018-19  \n",
       "3  43.8  23.2  12.2  7.2  4.9   6.0  18.9  20.6 -1.1  2018-19  \n",
       "4  42.9  21.9  14.1  7.4  4.3   5.8  20.3  18.7 -8.4  2018-19  \n",
       "\n",
       "[5 rows x 28 columns]"
      ]
     },
     "execution_count": 9,
     "metadata": {},
     "output_type": "execute_result"
    }
   ],
   "source": [
    "team_stats = pd.read_csv('data/nba_team_stats_00_to_18.csv')\n",
    "team_stats = team_stats.drop(['Unnamed: 0'], axis = 1)\n",
    "team_stats.head()"
   ]
  },
  {
   "cell_type": "code",
   "execution_count": 10,
   "metadata": {},
   "outputs": [
    {
     "name": "stderr",
     "output_type": "stream",
     "text": [
      "C:\\Users\\brian\\anaconda3\\lib\\site-packages\\ipykernel_launcher.py:2: SettingWithCopyWarning: \n",
      "A value is trying to be set on a copy of a slice from a DataFrame\n",
      "\n",
      "See the caveats in the documentation: https://pandas.pydata.org/pandas-docs/stable/user_guide/indexing.html#returning-a-view-versus-a-copy\n",
      "  \n"
     ]
    },
    {
     "data": {
      "text/html": [
       "<div>\n",
       "<style scoped>\n",
       "    .dataframe tbody tr th:only-of-type {\n",
       "        vertical-align: middle;\n",
       "    }\n",
       "\n",
       "    .dataframe tbody tr th {\n",
       "        vertical-align: top;\n",
       "    }\n",
       "\n",
       "    .dataframe thead th {\n",
       "        text-align: right;\n",
       "    }\n",
       "</style>\n",
       "<table border=\"1\" class=\"dataframe\">\n",
       "  <thead>\n",
       "    <tr style=\"text-align: right;\">\n",
       "      <th></th>\n",
       "      <th>TEAM</th>\n",
       "      <th>GP</th>\n",
       "      <th>W</th>\n",
       "      <th>L</th>\n",
       "      <th>WIN%</th>\n",
       "      <th>MIN</th>\n",
       "      <th>PTS</th>\n",
       "      <th>FGM</th>\n",
       "      <th>FGA</th>\n",
       "      <th>FG%</th>\n",
       "      <th>...</th>\n",
       "      <th>REB</th>\n",
       "      <th>AST</th>\n",
       "      <th>TOV</th>\n",
       "      <th>STL</th>\n",
       "      <th>BLK</th>\n",
       "      <th>BLKA</th>\n",
       "      <th>PF</th>\n",
       "      <th>PFD</th>\n",
       "      <th>+/-</th>\n",
       "      <th>SEASON</th>\n",
       "    </tr>\n",
       "  </thead>\n",
       "  <tbody>\n",
       "    <tr>\n",
       "      <th>0</th>\n",
       "      <td>Atlanta Hawks</td>\n",
       "      <td>82</td>\n",
       "      <td>29</td>\n",
       "      <td>53</td>\n",
       "      <td>0.354</td>\n",
       "      <td>48.4</td>\n",
       "      <td>113.3</td>\n",
       "      <td>41.4</td>\n",
       "      <td>91.8</td>\n",
       "      <td>45.1</td>\n",
       "      <td>...</td>\n",
       "      <td>46.1</td>\n",
       "      <td>25.8</td>\n",
       "      <td>17.0</td>\n",
       "      <td>8.2</td>\n",
       "      <td>5.1</td>\n",
       "      <td>5.5</td>\n",
       "      <td>23.6</td>\n",
       "      <td>22.2</td>\n",
       "      <td>-6.0</td>\n",
       "      <td>2018</td>\n",
       "    </tr>\n",
       "    <tr>\n",
       "      <th>1</th>\n",
       "      <td>Boston Celtics</td>\n",
       "      <td>82</td>\n",
       "      <td>49</td>\n",
       "      <td>33</td>\n",
       "      <td>0.598</td>\n",
       "      <td>48.2</td>\n",
       "      <td>112.4</td>\n",
       "      <td>42.1</td>\n",
       "      <td>90.5</td>\n",
       "      <td>46.5</td>\n",
       "      <td>...</td>\n",
       "      <td>44.5</td>\n",
       "      <td>26.3</td>\n",
       "      <td>12.8</td>\n",
       "      <td>8.6</td>\n",
       "      <td>5.3</td>\n",
       "      <td>3.9</td>\n",
       "      <td>20.4</td>\n",
       "      <td>19.5</td>\n",
       "      <td>4.4</td>\n",
       "      <td>2018</td>\n",
       "    </tr>\n",
       "    <tr>\n",
       "      <th>2</th>\n",
       "      <td>Brooklyn Nets</td>\n",
       "      <td>82</td>\n",
       "      <td>42</td>\n",
       "      <td>40</td>\n",
       "      <td>0.512</td>\n",
       "      <td>48.7</td>\n",
       "      <td>112.2</td>\n",
       "      <td>40.3</td>\n",
       "      <td>89.7</td>\n",
       "      <td>44.9</td>\n",
       "      <td>...</td>\n",
       "      <td>46.6</td>\n",
       "      <td>23.8</td>\n",
       "      <td>15.1</td>\n",
       "      <td>6.6</td>\n",
       "      <td>4.1</td>\n",
       "      <td>5.3</td>\n",
       "      <td>21.5</td>\n",
       "      <td>22.0</td>\n",
       "      <td>-0.1</td>\n",
       "      <td>2018</td>\n",
       "    </tr>\n",
       "    <tr>\n",
       "      <th>3</th>\n",
       "      <td>Charlotte Hornets</td>\n",
       "      <td>82</td>\n",
       "      <td>39</td>\n",
       "      <td>43</td>\n",
       "      <td>0.476</td>\n",
       "      <td>48.4</td>\n",
       "      <td>110.7</td>\n",
       "      <td>40.2</td>\n",
       "      <td>89.8</td>\n",
       "      <td>44.8</td>\n",
       "      <td>...</td>\n",
       "      <td>43.8</td>\n",
       "      <td>23.2</td>\n",
       "      <td>12.2</td>\n",
       "      <td>7.2</td>\n",
       "      <td>4.9</td>\n",
       "      <td>6.0</td>\n",
       "      <td>18.9</td>\n",
       "      <td>20.6</td>\n",
       "      <td>-1.1</td>\n",
       "      <td>2018</td>\n",
       "    </tr>\n",
       "    <tr>\n",
       "      <th>4</th>\n",
       "      <td>Chicago Bulls</td>\n",
       "      <td>82</td>\n",
       "      <td>22</td>\n",
       "      <td>60</td>\n",
       "      <td>0.268</td>\n",
       "      <td>48.5</td>\n",
       "      <td>104.9</td>\n",
       "      <td>39.8</td>\n",
       "      <td>87.9</td>\n",
       "      <td>45.3</td>\n",
       "      <td>...</td>\n",
       "      <td>42.9</td>\n",
       "      <td>21.9</td>\n",
       "      <td>14.1</td>\n",
       "      <td>7.4</td>\n",
       "      <td>4.3</td>\n",
       "      <td>5.8</td>\n",
       "      <td>20.3</td>\n",
       "      <td>18.7</td>\n",
       "      <td>-8.4</td>\n",
       "      <td>2018</td>\n",
       "    </tr>\n",
       "  </tbody>\n",
       "</table>\n",
       "<p>5 rows × 28 columns</p>\n",
       "</div>"
      ],
      "text/plain": [
       "                TEAM  GP   W   L   WIN%   MIN    PTS   FGM   FGA   FG%  ...  \\\n",
       "0      Atlanta Hawks  82  29  53  0.354  48.4  113.3  41.4  91.8  45.1  ...   \n",
       "1     Boston Celtics  82  49  33  0.598  48.2  112.4  42.1  90.5  46.5  ...   \n",
       "2      Brooklyn Nets  82  42  40  0.512  48.7  112.2  40.3  89.7  44.9  ...   \n",
       "3  Charlotte Hornets  82  39  43  0.476  48.4  110.7  40.2  89.8  44.8  ...   \n",
       "4      Chicago Bulls  82  22  60  0.268  48.5  104.9  39.8  87.9  45.3  ...   \n",
       "\n",
       "    REB   AST   TOV  STL  BLK  BLKA    PF   PFD  +/-  SEASON  \n",
       "0  46.1  25.8  17.0  8.2  5.1   5.5  23.6  22.2 -6.0    2018  \n",
       "1  44.5  26.3  12.8  8.6  5.3   3.9  20.4  19.5  4.4    2018  \n",
       "2  46.6  23.8  15.1  6.6  4.1   5.3  21.5  22.0 -0.1    2018  \n",
       "3  43.8  23.2  12.2  7.2  4.9   6.0  18.9  20.6 -1.1    2018  \n",
       "4  42.9  21.9  14.1  7.4  4.3   5.8  20.3  18.7 -8.4    2018  \n",
       "\n",
       "[5 rows x 28 columns]"
      ]
     },
     "execution_count": 10,
     "metadata": {},
     "output_type": "execute_result"
    }
   ],
   "source": [
    "for i in range(len(team_stats)):\n",
    "    team_stats.SEASON[i] = team_stats.SEASON[i][:4]\n",
    "\n",
    "team_stats.head()"
   ]
  },
  {
   "cell_type": "code",
   "execution_count": 11,
   "metadata": {},
   "outputs": [
    {
     "name": "stdout",
     "output_type": "stream",
     "text": [
      "The old and new team stats data have the same number of rows of 566\n"
     ]
    }
   ],
   "source": [
    "# checking to see if there are any NaN values\n",
    "numRowsOrig = len(team_stats)\n",
    "copyTSData = copy.deepcopy(team_stats)\n",
    "teamStatsClean = copyTSData.dropna()\n",
    "numRowsNew = len(teamStatsClean)\n",
    "\n",
    "# luckily, there weren't any missing or NaN values in the data set, so we didn't need to impute any data\n",
    "if numRowsOrig == numRowsNew:\n",
    "    print(f'The old and new team stats data have the same number of rows of {numRowsOrig}')\n",
    "else:\n",
    "    print(f'The old team stats data has this many rows {numRowsOrig} and the new playoffs data {numRowsNew}')"
   ]
  },
  {
   "cell_type": "code",
   "execution_count": 12,
   "metadata": {},
   "outputs": [
    {
     "name": "stdout",
     "output_type": "stream",
     "text": [
      "Index(['TEAM', 'GP', 'W', 'L', 'WIN%', 'MIN', 'PTS', 'FGM', 'FGA', 'FG%',\n",
      "       '3PM', '3PA', '3P%', 'FTM', 'FTA', 'FT%', 'OREB', 'DREB', 'REB', 'AST',\n",
      "       'TOV', 'STL', 'BLK', 'BLKA', 'PF', 'PFD', '+/-', 'SEASON'],\n",
      "      dtype='object')\n"
     ]
    }
   ],
   "source": [
    "print(team_stats.columns)"
   ]
  },
  {
   "cell_type": "code",
   "execution_count": 13,
   "metadata": {},
   "outputs": [
    {
     "name": "stdout",
     "output_type": "stream",
     "text": [
      "There are a total of 37\n",
      "Charlotte Bobcats\n",
      "New Orleans Hornets\n",
      "Los Angeles Clippers\n",
      "Washington Wizards\n",
      "Boston Celtics\n",
      "Denver Nuggets\n",
      "Memphis Grizzlies\n",
      "Philadelphia 76ers\n",
      "Sacramento Kings\n",
      "Utah Jazz\n",
      "Toronto Raptors\n",
      "Charlotte Hornets\n",
      "Houston Rockets\n",
      "Milwaukee Bucks\n",
      "San Antonio Spurs\n",
      "Phoenix Suns\n",
      "New Orleans/Oklahoma City Hornets\n",
      "Dallas Mavericks\n",
      "Chicago Bulls\n",
      "Atlanta Hawks\n",
      "Brooklyn Nets\n",
      "Portland Trail Blazers\n",
      "Golden State Warriors\n",
      "Detroit Pistons\n",
      "New Orleans Pelicans\n",
      "Seattle SuperSonics\n",
      "Orlando Magic\n",
      "Minnesota Timberwolves\n",
      "LA Clippers\n",
      "Miami Heat\n",
      "New Jersey Nets\n",
      "Cleveland Cavaliers\n",
      "New York Knicks\n",
      "Vancouver Grizzlies\n",
      "Indiana Pacers\n",
      "Oklahoma City Thunder\n",
      "Los Angeles Lakers\n"
     ]
    }
   ],
   "source": [
    "allTeams = set(teamStatsClean['TEAM'])\n",
    "numTeams = len(allTeams)\n",
    "print(f'There are a total of {numTeams}')\n",
    "\n",
    "# from this, you can see that there are old team names\n",
    "# thus, we'll replace the old team names with the new/current ones\n",
    "for i in allTeams:\n",
    "    print(i)"
   ]
  },
  {
   "cell_type": "code",
   "execution_count": 14,
   "metadata": {},
   "outputs": [],
   "source": [
    "mappingOldToNew = [\n",
    "    ['Charlotte Bobcats', 'Charlotte Hornets'],\n",
    "    ['New Orleans Hornets', 'New Orleans Pelicans'],\n",
    "    ['New Orleans/Oklahoma City Hornets', 'New Orleans Pelicans'],\n",
    "    ['Seattle SuperSonics', 'Oklahoma City Thunder'],\n",
    "    ['Vancouver Grizzlies', 'Memphis Grizzlies'],\n",
    "    ['New Jersey Nets', 'Brooklyn Nets'],\n",
    "    ['LA Clippers', 'Los Angeles Clippers']\n",
    "]\n",
    "\n",
    "for i in range(len(mappingOldToNew)):\n",
    "    teamStatsClean = teamStatsClean.replace(to_replace = mappingOldToNew[i][0], value = mappingOldToNew[i][1])"
   ]
  },
  {
   "cell_type": "code",
   "execution_count": 15,
   "metadata": {},
   "outputs": [
    {
     "name": "stdout",
     "output_type": "stream",
     "text": [
      "There are a total of 30\n",
      "Los Angeles Clippers\n",
      "Washington Wizards\n",
      "Boston Celtics\n",
      "Denver Nuggets\n",
      "Memphis Grizzlies\n",
      "Philadelphia 76ers\n",
      "Sacramento Kings\n",
      "Utah Jazz\n",
      "Toronto Raptors\n",
      "Charlotte Hornets\n",
      "Houston Rockets\n",
      "Milwaukee Bucks\n",
      "San Antonio Spurs\n",
      "Phoenix Suns\n",
      "Dallas Mavericks\n",
      "Chicago Bulls\n",
      "Atlanta Hawks\n",
      "Brooklyn Nets\n",
      "Portland Trail Blazers\n",
      "Golden State Warriors\n",
      "Detroit Pistons\n",
      "New Orleans Pelicans\n",
      "Orlando Magic\n",
      "Minnesota Timberwolves\n",
      "Miami Heat\n",
      "Cleveland Cavaliers\n",
      "New York Knicks\n",
      "Indiana Pacers\n",
      "Oklahoma City Thunder\n",
      "Los Angeles Lakers\n"
     ]
    }
   ],
   "source": [
    "# to verify if the mapping worked\n",
    "allTeams = set(teamStatsClean['TEAM'])\n",
    "numTeams = len(allTeams)\n",
    "print(f'There are a total of {numTeams}')\n",
    "\n",
    "for i in allTeams:\n",
    "    print(i)"
   ]
  },
  {
   "cell_type": "markdown",
   "metadata": {},
   "source": [
    "### Now we need to merge the two datasets together"
   ]
  },
  {
   "cell_type": "code",
   "execution_count": 16,
   "metadata": {},
   "outputs": [
    {
     "name": "stdout",
     "output_type": "stream",
     "text": [
      "[2000, 2001, 2002, 2003, 2004, 2005, 2006, 2007, 2008, 2009, 2010, 2011, 2012, 2013, 2014, 2015, 2016, 2017, 2018]\n",
      "[2000, 2001, 2002, 2003, 2004, 2005, 2006, 2007, 2008, 2009, 2010, 2011, 2012, 2013, 2014, 2015, 2016, 2017, 2018]\n"
     ]
    }
   ],
   "source": [
    "year1 = set(playOffWinsClean['Season'])\n",
    "year1 = list(year1)\n",
    "year1.sort()\n",
    "year2 = set(teamStatsClean['SEASON'])\n",
    "year2 = list(year2)\n",
    "year2 = [int(i) for i in year2]\n",
    "year2.sort()\n",
    "\n",
    "# verifying whether both datasets have the same seasons\n",
    "print(year1)\n",
    "print(year2)"
   ]
  },
  {
   "cell_type": "code",
   "execution_count": 17,
   "metadata": {},
   "outputs": [
    {
     "name": "stdout",
     "output_type": "stream",
     "text": [
      "not found\n",
      "found\n"
     ]
    }
   ],
   "source": [
    "# this is for learning purposes\n",
    "query1 = playOffWinsClean[(playOffWinsClean['Team'] == 'Atlanta Hawks') & (playOffWinsClean['Season'] == 2018)]\n",
    "# print(query1) # empty as it should be\n",
    "if len(query1) == 0:\n",
    "    print(\"not found\")\n",
    "elif len(query1) == 1:\n",
    "    print(\"found\")\n",
    "else:\n",
    "    print(\"found multiple copies\")\n",
    "\n",
    "query2 = playOffWinsClean[(playOffWinsClean['Team'] == 'Milwaukee Bucks') & (playOffWinsClean['Season'] == 2018)]\n",
    "# print(query2) # returns the correct row\n",
    "if len(query2) == 0:\n",
    "    print(\"not found\")\n",
    "elif len(query2) == 1:\n",
    "    print(\"found\")\n",
    "else:\n",
    "    print(\"found multiple copies\")    "
   ]
  },
  {
   "cell_type": "code",
   "execution_count": 18,
   "metadata": {},
   "outputs": [
    {
     "name": "stdout",
     "output_type": "stream",
     "text": [
      "Index(['Season', 'Team', 'W'], dtype='object')\n"
     ]
    }
   ],
   "source": [
    "print(playOffWinsClean.columns)"
   ]
  },
  {
   "cell_type": "code",
   "execution_count": 19,
   "metadata": {},
   "outputs": [],
   "source": [
    "madeToPlayOffArr = []\n",
    "playOffWinsArr = []\n",
    "\n",
    "for i in range(len(teamStatsClean)):\n",
    "    TSRowData = teamStatsClean.iloc[i]\n",
    "#     print(TSRowData)\n",
    "    nextTeam = TSRowData['TEAM']\n",
    "    nextSeason = TSRowData['SEASON']\n",
    "#     print(nextTeam)\n",
    "#     print(nextSeason)\n",
    "    query = playOffWinsClean[(playOffWinsClean['Team'] == nextTeam) & (playOffWinsClean['Season'] == int(nextSeason))]\n",
    "    if len(query) == 0:\n",
    "#         print(\"not found\")\n",
    "        madeToPlayOffArr.append(0)\n",
    "        playOffWinsArr.append(0)\n",
    "    elif len(query) == 1:\n",
    "#         print(\"found\")\n",
    "        madeToPlayOffArr.append(1)\n",
    "        playOffWinsArr.append(float(query['W']))\n",
    "    else:\n",
    "        raise Exception(\"found multiple copies\")   "
   ]
  },
  {
   "cell_type": "code",
   "execution_count": 20,
   "metadata": {},
   "outputs": [
    {
     "name": "stdout",
     "output_type": "stream",
     "text": [
      "566\n",
      "566\n",
      "566\n"
     ]
    }
   ],
   "source": [
    "print(len(madeToPlayOffArr))\n",
    "print(len(playOffWinsArr))\n",
    "print(len(teamStatsClean))"
   ]
  },
  {
   "cell_type": "code",
   "execution_count": 21,
   "metadata": {},
   "outputs": [],
   "source": [
    "teamStatsClean.insert(len(teamStatsClean.columns)-1, \"Made PO\", madeToPlayOffArr, False)\n",
    "teamStatsClean.insert(len(teamStatsClean.columns)-1, \"PO Wins\", playOffWinsArr, False)\n",
    "\n",
    "finalDataClean = copy.deepcopy(teamStatsClean)"
   ]
  },
  {
   "cell_type": "markdown",
   "metadata": {},
   "source": [
    "Finally, the last thing we need to do is to remove teams that did not make the playoffs. We know these teams are guranteed to win 0 playoff games, so we don't need to attempt to predict it."
   ]
  },
  {
   "cell_type": "code",
   "execution_count": 22,
   "metadata": {},
   "outputs": [],
   "source": [
    "finalDataClean = finalDataClean[finalDataClean['Made PO'] == 1]"
   ]
  },
  {
   "cell_type": "code",
   "execution_count": 23,
   "metadata": {},
   "outputs": [
    {
     "data": {
      "text/html": [
       "<div>\n",
       "<style scoped>\n",
       "    .dataframe tbody tr th:only-of-type {\n",
       "        vertical-align: middle;\n",
       "    }\n",
       "\n",
       "    .dataframe tbody tr th {\n",
       "        vertical-align: top;\n",
       "    }\n",
       "\n",
       "    .dataframe thead th {\n",
       "        text-align: right;\n",
       "    }\n",
       "</style>\n",
       "<table border=\"1\" class=\"dataframe\">\n",
       "  <thead>\n",
       "    <tr style=\"text-align: right;\">\n",
       "      <th></th>\n",
       "      <th>TEAM</th>\n",
       "      <th>GP</th>\n",
       "      <th>W</th>\n",
       "      <th>L</th>\n",
       "      <th>WIN%</th>\n",
       "      <th>MIN</th>\n",
       "      <th>PTS</th>\n",
       "      <th>FGM</th>\n",
       "      <th>FGA</th>\n",
       "      <th>FG%</th>\n",
       "      <th>...</th>\n",
       "      <th>TOV</th>\n",
       "      <th>STL</th>\n",
       "      <th>BLK</th>\n",
       "      <th>BLKA</th>\n",
       "      <th>PF</th>\n",
       "      <th>PFD</th>\n",
       "      <th>+/-</th>\n",
       "      <th>Made PO</th>\n",
       "      <th>PO Wins</th>\n",
       "      <th>SEASON</th>\n",
       "    </tr>\n",
       "  </thead>\n",
       "  <tbody>\n",
       "    <tr>\n",
       "      <th>1</th>\n",
       "      <td>Boston Celtics</td>\n",
       "      <td>82</td>\n",
       "      <td>49</td>\n",
       "      <td>33</td>\n",
       "      <td>0.598</td>\n",
       "      <td>48.2</td>\n",
       "      <td>112.4</td>\n",
       "      <td>42.1</td>\n",
       "      <td>90.5</td>\n",
       "      <td>46.5</td>\n",
       "      <td>...</td>\n",
       "      <td>12.8</td>\n",
       "      <td>8.6</td>\n",
       "      <td>5.3</td>\n",
       "      <td>3.9</td>\n",
       "      <td>20.4</td>\n",
       "      <td>19.5</td>\n",
       "      <td>4.4</td>\n",
       "      <td>1</td>\n",
       "      <td>5.0</td>\n",
       "      <td>2018</td>\n",
       "    </tr>\n",
       "    <tr>\n",
       "      <th>2</th>\n",
       "      <td>Brooklyn Nets</td>\n",
       "      <td>82</td>\n",
       "      <td>42</td>\n",
       "      <td>40</td>\n",
       "      <td>0.512</td>\n",
       "      <td>48.7</td>\n",
       "      <td>112.2</td>\n",
       "      <td>40.3</td>\n",
       "      <td>89.7</td>\n",
       "      <td>44.9</td>\n",
       "      <td>...</td>\n",
       "      <td>15.1</td>\n",
       "      <td>6.6</td>\n",
       "      <td>4.1</td>\n",
       "      <td>5.3</td>\n",
       "      <td>21.5</td>\n",
       "      <td>22.0</td>\n",
       "      <td>-0.1</td>\n",
       "      <td>1</td>\n",
       "      <td>1.0</td>\n",
       "      <td>2018</td>\n",
       "    </tr>\n",
       "    <tr>\n",
       "      <th>7</th>\n",
       "      <td>Denver Nuggets</td>\n",
       "      <td>82</td>\n",
       "      <td>54</td>\n",
       "      <td>28</td>\n",
       "      <td>0.659</td>\n",
       "      <td>48.1</td>\n",
       "      <td>110.7</td>\n",
       "      <td>41.9</td>\n",
       "      <td>90.0</td>\n",
       "      <td>46.6</td>\n",
       "      <td>...</td>\n",
       "      <td>13.4</td>\n",
       "      <td>7.7</td>\n",
       "      <td>4.4</td>\n",
       "      <td>5.0</td>\n",
       "      <td>20.0</td>\n",
       "      <td>20.4</td>\n",
       "      <td>4.0</td>\n",
       "      <td>1</td>\n",
       "      <td>7.0</td>\n",
       "      <td>2018</td>\n",
       "    </tr>\n",
       "    <tr>\n",
       "      <th>8</th>\n",
       "      <td>Detroit Pistons</td>\n",
       "      <td>82</td>\n",
       "      <td>41</td>\n",
       "      <td>41</td>\n",
       "      <td>0.500</td>\n",
       "      <td>48.4</td>\n",
       "      <td>107.0</td>\n",
       "      <td>38.8</td>\n",
       "      <td>88.3</td>\n",
       "      <td>44.0</td>\n",
       "      <td>...</td>\n",
       "      <td>13.8</td>\n",
       "      <td>6.9</td>\n",
       "      <td>4.0</td>\n",
       "      <td>5.1</td>\n",
       "      <td>22.1</td>\n",
       "      <td>21.3</td>\n",
       "      <td>-0.2</td>\n",
       "      <td>1</td>\n",
       "      <td>0.0</td>\n",
       "      <td>2018</td>\n",
       "    </tr>\n",
       "    <tr>\n",
       "      <th>9</th>\n",
       "      <td>Golden State Warriors</td>\n",
       "      <td>82</td>\n",
       "      <td>57</td>\n",
       "      <td>25</td>\n",
       "      <td>0.695</td>\n",
       "      <td>48.3</td>\n",
       "      <td>117.7</td>\n",
       "      <td>44.0</td>\n",
       "      <td>89.8</td>\n",
       "      <td>49.1</td>\n",
       "      <td>...</td>\n",
       "      <td>14.3</td>\n",
       "      <td>7.6</td>\n",
       "      <td>6.4</td>\n",
       "      <td>3.6</td>\n",
       "      <td>21.4</td>\n",
       "      <td>19.5</td>\n",
       "      <td>6.5</td>\n",
       "      <td>1</td>\n",
       "      <td>14.0</td>\n",
       "      <td>2018</td>\n",
       "    </tr>\n",
       "    <tr>\n",
       "      <th>10</th>\n",
       "      <td>Houston Rockets</td>\n",
       "      <td>82</td>\n",
       "      <td>53</td>\n",
       "      <td>29</td>\n",
       "      <td>0.646</td>\n",
       "      <td>48.4</td>\n",
       "      <td>113.9</td>\n",
       "      <td>39.2</td>\n",
       "      <td>87.4</td>\n",
       "      <td>44.9</td>\n",
       "      <td>...</td>\n",
       "      <td>13.3</td>\n",
       "      <td>8.5</td>\n",
       "      <td>4.9</td>\n",
       "      <td>4.5</td>\n",
       "      <td>22.0</td>\n",
       "      <td>20.0</td>\n",
       "      <td>4.8</td>\n",
       "      <td>1</td>\n",
       "      <td>6.0</td>\n",
       "      <td>2018</td>\n",
       "    </tr>\n",
       "    <tr>\n",
       "      <th>11</th>\n",
       "      <td>Indiana Pacers</td>\n",
       "      <td>82</td>\n",
       "      <td>48</td>\n",
       "      <td>34</td>\n",
       "      <td>0.585</td>\n",
       "      <td>48.1</td>\n",
       "      <td>108.0</td>\n",
       "      <td>41.3</td>\n",
       "      <td>87.0</td>\n",
       "      <td>47.5</td>\n",
       "      <td>...</td>\n",
       "      <td>13.7</td>\n",
       "      <td>8.7</td>\n",
       "      <td>4.9</td>\n",
       "      <td>5.2</td>\n",
       "      <td>19.4</td>\n",
       "      <td>20.0</td>\n",
       "      <td>3.3</td>\n",
       "      <td>1</td>\n",
       "      <td>0.0</td>\n",
       "      <td>2018</td>\n",
       "    </tr>\n",
       "    <tr>\n",
       "      <th>12</th>\n",
       "      <td>Los Angeles Clippers</td>\n",
       "      <td>82</td>\n",
       "      <td>48</td>\n",
       "      <td>34</td>\n",
       "      <td>0.585</td>\n",
       "      <td>48.4</td>\n",
       "      <td>115.1</td>\n",
       "      <td>41.3</td>\n",
       "      <td>87.5</td>\n",
       "      <td>47.1</td>\n",
       "      <td>...</td>\n",
       "      <td>14.5</td>\n",
       "      <td>6.8</td>\n",
       "      <td>4.7</td>\n",
       "      <td>6.1</td>\n",
       "      <td>23.3</td>\n",
       "      <td>24.0</td>\n",
       "      <td>0.9</td>\n",
       "      <td>1</td>\n",
       "      <td>2.0</td>\n",
       "      <td>2018</td>\n",
       "    </tr>\n",
       "    <tr>\n",
       "      <th>16</th>\n",
       "      <td>Milwaukee Bucks</td>\n",
       "      <td>82</td>\n",
       "      <td>60</td>\n",
       "      <td>22</td>\n",
       "      <td>0.732</td>\n",
       "      <td>48.2</td>\n",
       "      <td>118.1</td>\n",
       "      <td>43.4</td>\n",
       "      <td>91.1</td>\n",
       "      <td>47.6</td>\n",
       "      <td>...</td>\n",
       "      <td>13.9</td>\n",
       "      <td>7.5</td>\n",
       "      <td>5.9</td>\n",
       "      <td>4.8</td>\n",
       "      <td>19.6</td>\n",
       "      <td>20.2</td>\n",
       "      <td>8.9</td>\n",
       "      <td>1</td>\n",
       "      <td>10.0</td>\n",
       "      <td>2018</td>\n",
       "    </tr>\n",
       "    <tr>\n",
       "      <th>20</th>\n",
       "      <td>Oklahoma City Thunder</td>\n",
       "      <td>82</td>\n",
       "      <td>49</td>\n",
       "      <td>33</td>\n",
       "      <td>0.598</td>\n",
       "      <td>48.4</td>\n",
       "      <td>114.5</td>\n",
       "      <td>42.6</td>\n",
       "      <td>94.0</td>\n",
       "      <td>45.4</td>\n",
       "      <td>...</td>\n",
       "      <td>14.0</td>\n",
       "      <td>9.3</td>\n",
       "      <td>5.2</td>\n",
       "      <td>5.1</td>\n",
       "      <td>22.4</td>\n",
       "      <td>22.5</td>\n",
       "      <td>3.4</td>\n",
       "      <td>1</td>\n",
       "      <td>1.0</td>\n",
       "      <td>2018</td>\n",
       "    </tr>\n",
       "  </tbody>\n",
       "</table>\n",
       "<p>10 rows × 30 columns</p>\n",
       "</div>"
      ],
      "text/plain": [
       "                     TEAM  GP   W   L   WIN%   MIN    PTS   FGM   FGA   FG%  \\\n",
       "1          Boston Celtics  82  49  33  0.598  48.2  112.4  42.1  90.5  46.5   \n",
       "2           Brooklyn Nets  82  42  40  0.512  48.7  112.2  40.3  89.7  44.9   \n",
       "7          Denver Nuggets  82  54  28  0.659  48.1  110.7  41.9  90.0  46.6   \n",
       "8         Detroit Pistons  82  41  41  0.500  48.4  107.0  38.8  88.3  44.0   \n",
       "9   Golden State Warriors  82  57  25  0.695  48.3  117.7  44.0  89.8  49.1   \n",
       "10        Houston Rockets  82  53  29  0.646  48.4  113.9  39.2  87.4  44.9   \n",
       "11         Indiana Pacers  82  48  34  0.585  48.1  108.0  41.3  87.0  47.5   \n",
       "12   Los Angeles Clippers  82  48  34  0.585  48.4  115.1  41.3  87.5  47.1   \n",
       "16        Milwaukee Bucks  82  60  22  0.732  48.2  118.1  43.4  91.1  47.6   \n",
       "20  Oklahoma City Thunder  82  49  33  0.598  48.4  114.5  42.6  94.0  45.4   \n",
       "\n",
       "    ...   TOV  STL  BLK  BLKA    PF   PFD  +/-  Made PO  PO Wins  SEASON  \n",
       "1   ...  12.8  8.6  5.3   3.9  20.4  19.5  4.4        1      5.0    2018  \n",
       "2   ...  15.1  6.6  4.1   5.3  21.5  22.0 -0.1        1      1.0    2018  \n",
       "7   ...  13.4  7.7  4.4   5.0  20.0  20.4  4.0        1      7.0    2018  \n",
       "8   ...  13.8  6.9  4.0   5.1  22.1  21.3 -0.2        1      0.0    2018  \n",
       "9   ...  14.3  7.6  6.4   3.6  21.4  19.5  6.5        1     14.0    2018  \n",
       "10  ...  13.3  8.5  4.9   4.5  22.0  20.0  4.8        1      6.0    2018  \n",
       "11  ...  13.7  8.7  4.9   5.2  19.4  20.0  3.3        1      0.0    2018  \n",
       "12  ...  14.5  6.8  4.7   6.1  23.3  24.0  0.9        1      2.0    2018  \n",
       "16  ...  13.9  7.5  5.9   4.8  19.6  20.2  8.9        1     10.0    2018  \n",
       "20  ...  14.0  9.3  5.2   5.1  22.4  22.5  3.4        1      1.0    2018  \n",
       "\n",
       "[10 rows x 30 columns]"
      ]
     },
     "execution_count": 23,
     "metadata": {},
     "output_type": "execute_result"
    }
   ],
   "source": [
    "# you can check with the playoffs data set to see if we correctly added the data to the team stats dataset\n",
    "finalDataClean.head(10)"
   ]
  },
  {
   "cell_type": "markdown",
   "metadata": {},
   "source": [
    "Finally, we will drop a couple predictors, we don't want team name to influence predictions so we'll remove that, and Games Played, since every team plays 82 games."
   ]
  },
  {
   "cell_type": "code",
   "execution_count": 24,
   "metadata": {},
   "outputs": [],
   "source": [
    "# We don't want team name to influence predictions\n",
    "# we drop the 'Made PO' column since we know that all of them made it to the playoffs and thus it can't be\n",
    "# used to differentiate the different data points\n",
    "predictors = finalDataClean.drop(['TEAM', 'PO Wins', 'GP', 'Made PO'], axis = 1)"
   ]
  },
  {
   "cell_type": "markdown",
   "metadata": {},
   "source": [
    "## Exploratory Data Analysis\n",
    "\n",
    "On first guess, we predict that there will be a lot of collinearity among our predictors, for example teams that score more points on average will probably win more games. So we want to look at this. There is also probably a very strong relationship between wins in the regular season vs playoff wins, so we will look at this.\n",
    "\n",
    "First, let's look at the relationship between regular season wins, and playoff wins."
   ]
  },
  {
   "cell_type": "code",
   "execution_count": 25,
   "metadata": {},
   "outputs": [
    {
     "data": {
      "text/plain": [
       "<matplotlib.axes._subplots.AxesSubplot at 0x158b8886148>"
      ]
     },
     "execution_count": 25,
     "metadata": {},
     "output_type": "execute_result"
    },
    {
     "data": {
      "image/png": "[encoded data removed]",
      "text/plain": [
       "<Figure size 432x288 with 1 Axes>"
      ]
     },
     "metadata": {
      "needs_background": "light"
     },
     "output_type": "display_data"
    }
   ],
   "source": [
    "import seaborn as sns\n",
    "\n",
    "y = finalDataClean['PO Wins']\n",
    "x = predictors['W']\n",
    "\n",
    "sns.regplot(x, y)"
   ]
  },
  {
   "cell_type": "markdown",
   "metadata": {},
   "source": [
    "Here we can clearly see that there is strong positive relationship."
   ]
  },
  {
   "cell_type": "markdown",
   "metadata": {},
   "source": [
    "Next, there is most likely a lot of collinearity among our predictors, let's deal with this. We can drop some some predictors right away that we know will have very strong collinearity. For example, wins, loss, and win % are all directly related, so we will just keep win percentage."
   ]
  },
  {
   "cell_type": "code",
   "execution_count": 26,
   "metadata": {},
   "outputs": [],
   "source": [
    "predictors = predictors.drop(['W', 'L'], axis = 1)\n",
    "copyOrigPreds = copy.deepcopy(predictors)"
   ]
  },
  {
   "cell_type": "markdown",
   "metadata": {},
   "source": [
    "Now, for the rest of the variables we can plot a heatmap of the correlation matrix to see what kind of other collinearity there is."
   ]
  },
  {
   "cell_type": "code",
   "execution_count": 27,
   "metadata": {},
   "outputs": [
    {
     "data": {
      "image/png": "[encoded data removed]",
      "text/plain": [
       "<Figure size 1080x720 with 2 Axes>"
      ]
     },
     "metadata": {
      "needs_background": "light"
     },
     "output_type": "display_data"
    }
   ],
   "source": [
    "# https://towardsdatascience.com/better-heatmaps-and-correlation-matrix-plots-in-python-41445d0f2bec\n",
    "\n",
    "corr = predictors.corr()\n",
    "\n",
    "fig, ax = plt.subplots(figsize=(15,10))\n",
    "ax = sns.heatmap(corr)"
   ]
  },
  {
   "cell_type": "markdown",
   "metadata": {},
   "source": [
    "We can see, as predicted, that there is a lot of collinearity between predictors. In order to account for this we need to choose ML models that handle collinearity well like Random Forest and Boosting.\n",
    "\n",
    "We will also standardize the data to make it cleaner."
   ]
  },
  {
   "cell_type": "code",
   "execution_count": 28,
   "metadata": {},
   "outputs": [],
   "source": [
    "from sklearn.preprocessing import StandardScaler\n",
    "\n",
    "scaler = StandardScaler()\n",
    "scaler.fit(predictors)\n",
    "predictors = scaler.transform(predictors)"
   ]
  },
  {
   "cell_type": "markdown",
   "metadata": {},
   "source": [
    "## Models\n",
    "\n",
    "For our models we have chosen to use Random Forest and Boosting. We will also use a train and test set data to test our predictions"
   ]
  },
  {
   "cell_type": "code",
   "execution_count": 29,
   "metadata": {},
   "outputs": [],
   "source": [
    "from sklearn.model_selection import train_test_split\n",
    "\n",
    "X_train, X_test, y_train, y_test = train_test_split(predictors, y, test_size=0.40)"
   ]
  },
  {
   "cell_type": "markdown",
   "metadata": {},
   "source": [
    "### Random Forest\n",
    "\n",
    "Random Forests are well equipped for handling collinearity among predictors, so we have decided to use it. For the Random Forest we will use sci-kit learn's RandomForestRegressor."
   ]
  },
  {
   "cell_type": "code",
   "execution_count": 30,
   "metadata": {},
   "outputs": [
    {
     "data": {
      "text/plain": [
       "RandomForestRegressor(bootstrap=True, ccp_alpha=0.0, criterion='mse',\n",
       "                      max_depth=None, max_features='auto', max_leaf_nodes=None,\n",
       "                      max_samples=None, min_impurity_decrease=0.0,\n",
       "                      min_impurity_split=None, min_samples_leaf=1,\n",
       "                      min_samples_split=2, min_weight_fraction_leaf=0.0,\n",
       "                      n_estimators=100, n_jobs=None, oob_score=False,\n",
       "                      random_state=None, verbose=0, warm_start=False)"
      ]
     },
     "execution_count": 30,
     "metadata": {},
     "output_type": "execute_result"
    }
   ],
   "source": [
    "from sklearn.ensemble import RandomForestRegressor\n",
    "\n",
    "rf = RandomForestRegressor()\n",
    "rf.fit(X_train, y_train)"
   ]
  },
  {
   "cell_type": "code",
   "execution_count": 31,
   "metadata": {},
   "outputs": [
    {
     "name": "stdout",
     "output_type": "stream",
     "text": [
      "0.9096402006522097\n",
      "0.2714976351444387\n"
     ]
    }
   ],
   "source": [
    "print(rf.score(X_train, y_train))\n",
    "print(rf.score(X_test, y_test))"
   ]
  },
  {
   "cell_type": "markdown",
   "metadata": {},
   "source": [
    "Looks like our model is probably overfitting. Let's try some hyperparameter tuning. To do hyperparameter tuning we will use sklearn's GridSearchCV"
   ]
  },
  {
   "cell_type": "code",
   "execution_count": 32,
   "metadata": {},
   "outputs": [
    {
     "data": {
      "text/plain": [
       "RandomForestRegressor(bootstrap=True, ccp_alpha=0.0, criterion='mse',\n",
       "                      max_depth=3, max_features='auto', max_leaf_nodes=None,\n",
       "                      max_samples=None, min_impurity_decrease=0.0,\n",
       "                      min_impurity_split=None, min_samples_leaf=5,\n",
       "                      min_samples_split=3, min_weight_fraction_leaf=0.0,\n",
       "                      n_estimators=50, n_jobs=None, oob_score=False,\n",
       "                      random_state=None, verbose=0, warm_start=False)"
      ]
     },
     "execution_count": 32,
     "metadata": {},
     "output_type": "execute_result"
    }
   ],
   "source": [
    "from sklearn.metrics import make_scorer, accuracy_score\n",
    "from sklearn.model_selection import GridSearchCV\n",
    "\n",
    "rf = RandomForestRegressor()\n",
    "\n",
    "parameters = {'n_estimators': [10, 20, 50], \n",
    "              'max_features': ['log2', 'sqrt','auto'], \n",
    "              'max_depth': [2, 3, 5, 10], \n",
    "              'min_samples_split': [2, 3, 5],\n",
    "              'min_samples_leaf': [1,5,8]\n",
    "             }\n",
    "\n",
    "# acc_scorer = make_scorer(accuracy_score)\n",
    "\n",
    "grid_obj = GridSearchCV(rf, parameters)\n",
    "grid_obj = grid_obj.fit(X_train, y_train)\n",
    "\n",
    "rf = grid_obj.best_estimator_\n",
    "rf.fit(X_train, y_train)"
   ]
  },
  {
   "cell_type": "code",
   "execution_count": 33,
   "metadata": {},
   "outputs": [
    {
     "name": "stdout",
     "output_type": "stream",
     "text": [
      "0.6473011600425493\n",
      "0.3282388899619366\n"
     ]
    }
   ],
   "source": [
    "RFScoreTrain = rf.score(X_train, y_train)\n",
    "RFScoreTest = rf.score(X_test, y_test)\n",
    "print(RFScoreTrain)\n",
    "print(RFScoreTest)"
   ]
  },
  {
   "cell_type": "markdown",
   "metadata": {},
   "source": [
    "### Boosting\n",
    "\n",
    "We will use XGBoost for our boosting model"
   ]
  },
  {
   "cell_type": "code",
   "execution_count": 34,
   "metadata": {},
   "outputs": [],
   "source": [
    "import xgboost as xgb\n",
    "\n",
    "param = {'max_depth': 2, 'eta': 1, 'objective': 'binary:logistic'}\n",
    "param['nthread'] = 4\n",
    "param['eval_metric'] = 'auc'\n",
    "\n",
    "xgb_model = xgb.XGBRegressor(objective='reg:squarederror').fit(X_train, y_train)"
   ]
  },
  {
   "cell_type": "code",
   "execution_count": 35,
   "metadata": {},
   "outputs": [
    {
     "name": "stdout",
     "output_type": "stream",
     "text": [
      "0.9999999826136174\n",
      "0.10382966749322098\n"
     ]
    }
   ],
   "source": [
    "print(xgb_model.score(X_train, y_train))\n",
    "print(xgb_model.score(X_test, y_test))"
   ]
  },
  {
   "cell_type": "code",
   "execution_count": 36,
   "metadata": {},
   "outputs": [
    {
     "name": "stdout",
     "output_type": "stream",
     "text": [
      "0.2220753359068679\n",
      "{'max_depth': 3, 'n_estimators': 20}\n"
     ]
    },
    {
     "data": {
      "text/plain": [
       "XGBRegressor(base_score=0.5, booster=None, colsample_bylevel=1,\n",
       "             colsample_bynode=1, colsample_bytree=1, gamma=0, gpu_id=-1,\n",
       "             importance_type='gain', interaction_constraints=None,\n",
       "             learning_rate=0.300000012, max_delta_step=0, max_depth=3,\n",
       "             min_child_weight=1, missing=nan, monotone_constraints=None,\n",
       "             n_estimators=20, n_jobs=0, num_parallel_tree=1,\n",
       "             objective='reg:squarederror', random_state=0, reg_alpha=0,\n",
       "             reg_lambda=1, scale_pos_weight=1, subsample=1, tree_method=None,\n",
       "             validate_parameters=False, verbosity=None)"
      ]
     },
     "execution_count": 36,
     "metadata": {},
     "output_type": "execute_result"
    }
   ],
   "source": [
    "import warnings\n",
    "warnings.simplefilter(action='ignore', category=FutureWarning)\n",
    "\n",
    "clf = GridSearchCV(xgb_model,\n",
    "                   {'max_depth': [2,3],\n",
    "                    'n_estimators': [20, 50, 100]\n",
    "                   })\n",
    "clf.fit(X_train,y_train)\n",
    "print(clf.best_score_)\n",
    "print(clf.best_params_)\n",
    "\n",
    "xgb_model_best = clf.best_estimator_\n",
    "xgb_model_best.fit(X_train, y_train)"
   ]
  },
  {
   "cell_type": "code",
   "execution_count": 37,
   "metadata": {},
   "outputs": [
    {
     "name": "stdout",
     "output_type": "stream",
     "text": [
      "0.9182325075912958\n",
      "0.26585080444664044\n"
     ]
    }
   ],
   "source": [
    "XGBScoreTrain = xgb_model_best.score(X_train, y_train)\n",
    "XGBScoreTest = xgb_model_best.score(X_test, y_test)\n",
    "print(XGBScoreTrain)\n",
    "print(XGBScoreTest)"
   ]
  },
  {
   "cell_type": "markdown",
   "metadata": {},
   "source": [
    "It appears that our Random Forest does better than XGBoost. XGBoost is most likely overfitting."
   ]
  },
  {
   "cell_type": "markdown",
   "metadata": {},
   "source": [
    "### PCA\n",
    "\n",
    "We'll incorporate Principal Component Analysis (PCA) in order to explore how it might help improve our models by possibly reducing overfitting. We feel that it might help since there's some collinearity between the predictors and condensing them to fewer components might help with the performance."
   ]
  },
  {
   "cell_type": "code",
   "execution_count": 38,
   "metadata": {},
   "outputs": [
    {
     "data": {
      "image/png": "[encoded data removed]",
      "text/plain": [
       "<Figure size 576x432 with 1 Axes>"
      ]
     },
     "metadata": {
      "needs_background": "light"
     },
     "output_type": "display_data"
    }
   ],
   "source": [
    "from sklearn.decomposition import PCA\n",
    "\n",
    "pca = PCA()\n",
    "pca.fit_transform(predictors)\n",
    "pca_variance = pca.explained_variance_\n",
    "\n",
    "pca_variance = [i/sum(pca_variance) * 100 for i in pca_variance]\n",
    "\n",
    "plt.figure(figsize=(8, 6))\n",
    "\n",
    "# this plot is showing which components have the most explanatory power/variance\n",
    "plt.bar(range(len(pca_variance)), pca_variance, alpha=0.5, align='center', label='individual variance')\n",
    "plt.legend()\n",
    "plt.ylabel('Variance ratio')\n",
    "plt.xlabel('Principal components')\n",
    "plt.show()"
   ]
  },
  {
   "cell_type": "code",
   "execution_count": 39,
   "metadata": {},
   "outputs": [
    {
     "name": "stdout",
     "output_type": "stream",
     "text": [
      "The number of componets that explains 95.0% of the variance is 13\n"
     ]
    }
   ],
   "source": [
    "def numCompExplain(variances, thresholdPercExpl=0.95):\n",
    "    componentsNeeded = 0 # this is serving as an index\n",
    "    currPerExpl = 0\n",
    "    while currPerExpl < thresholdPercExpl and componentsNeeded < len(variances):\n",
    "        currPerExpl += variances[componentsNeeded]/100.0\n",
    "        componentsNeeded += 1\n",
    "\n",
    "    return componentsNeeded\n",
    "        \n",
    "thresPerEx = 0.95\n",
    "numComps = numCompExplain(pca_variance, thresPerEx)\n",
    "print(f'The number of componets that explains {thresPerEx * 100}% of the variance is {numComps}')"
   ]
  },
  {
   "cell_type": "code",
   "execution_count": 40,
   "metadata": {},
   "outputs": [
    {
     "name": "stdout",
     "output_type": "stream",
     "text": [
      "(304, 13)\n"
     ]
    }
   ],
   "source": [
    "# since 13 components explain a good portion (95%) of the\n",
    "# variance in the data, we'll convert the features into the top 13\n",
    "# features\n",
    "\n",
    "pca2 = PCA(n_components=numComps)\n",
    "pca2.fit(predictors)\n",
    "transPreds = pca2.transform(predictors)\n",
    "\n",
    "# from this, you can see that the number of features decreased \n",
    "# down to 13\n",
    "someNPArr = np.array(transPreds)\n",
    "print(someNPArr.shape)"
   ]
  },
  {
   "cell_type": "markdown",
   "metadata": {},
   "source": [
    "#### Now let's try to use our models (Random Forest and Boosting) on this reduced set of predictors from PCA"
   ]
  },
  {
   "cell_type": "code",
   "execution_count": 41,
   "metadata": {},
   "outputs": [],
   "source": [
    "X_trainPCA, X_testPCA, y_trainPCA, y_testPCA = train_test_split(transPreds, y, test_size=0.40)"
   ]
  },
  {
   "cell_type": "code",
   "execution_count": 42,
   "metadata": {},
   "outputs": [
    {
     "name": "stdout",
     "output_type": "stream",
     "text": [
      "These are the baseline scores for the RF Model\n",
      "0.8965721860027566\n",
      "0.21048957778883215\n",
      "\n",
      "These are the score after tuning the RF Model\n",
      "0.600065400121983\n",
      "0.2069386341727157\n"
     ]
    }
   ],
   "source": [
    "# creating a RF model using the new PCA transformed dataset\n",
    "\n",
    "rf = RandomForestRegressor()\n",
    "rf.fit(X_trainPCA, y_trainPCA)\n",
    "\n",
    "print(\"These are the baseline scores for the RF Model\")\n",
    "print(rf.score(X_trainPCA, y_trainPCA))\n",
    "print(rf.score(X_testPCA, y_testPCA))\n",
    "\n",
    "rfPCA = RandomForestRegressor()\n",
    "\n",
    "parameters = {'n_estimators': [10, 20, 50], \n",
    "              'max_features': ['log2', 'sqrt','auto'], \n",
    "              'max_depth': [2, 3, 5, 10], \n",
    "              'min_samples_split': [2, 3, 5],\n",
    "              'min_samples_leaf': [1,5,8]\n",
    "             }\n",
    "\n",
    "# acc_scorer = make_scorer(accuracy_score)\n",
    "print()\n",
    "\n",
    "grid_obj = GridSearchCV(rf, parameters)\n",
    "grid_obj = grid_obj.fit(X_trainPCA, y_trainPCA)\n",
    "\n",
    "rfPCA = grid_obj.best_estimator_\n",
    "rfPCA.fit(X_trainPCA, y_trainPCA)\n",
    "\n",
    "print(\"These are the score after tuning the RF Model\")\n",
    "\n",
    "RFPCAScoreTrain = rfPCA.score(X_trainPCA, y_trainPCA)\n",
    "RFPCAScoreTest = rfPCA.score(X_testPCA, y_testPCA)\n",
    "print(RFPCAScoreTrain)\n",
    "print(RFPCAScoreTest)"
   ]
  },
  {
   "cell_type": "code",
   "execution_count": 43,
   "metadata": {},
   "outputs": [
    {
     "name": "stdout",
     "output_type": "stream",
     "text": [
      "These are the baseline scores for the XGBoost Model\n",
      "0.9999999785378179\n",
      "-0.023335534863914154\n",
      "\n",
      "These are the score after tuning the XGBoost Model\n",
      "0.7479256043612509\n",
      "0.22268807315848693\n"
     ]
    }
   ],
   "source": [
    "# creating a XGBoost model using the new PCA transformed dataset\n",
    "\n",
    "param = {'max_depth': 2, 'eta': 1, 'objective': 'binary:logistic'}\n",
    "param['nthread'] = 4\n",
    "param['eval_metric'] = 'auc'\n",
    "\n",
    "xgb_model = xgb.XGBRegressor(objective='reg:squarederror').fit(X_trainPCA, y_trainPCA)\n",
    "\n",
    "print(\"These are the baseline scores for the XGBoost Model\")\n",
    "print(xgb_model.score(X_trainPCA, y_trainPCA))\n",
    "print(xgb_model.score(X_testPCA, y_testPCA))\n",
    "\n",
    "warnings.simplefilter(action='ignore', category=FutureWarning)\n",
    "\n",
    "clf = GridSearchCV(xgb_model,\n",
    "                   {'max_depth': [2,3],\n",
    "                    'n_estimators': [20, 50, 100]\n",
    "                   })\n",
    "clf.fit(X_trainPCA, y_trainPCA)\n",
    "\n",
    "print()\n",
    "\n",
    "xgb_model_bestPCA = clf.best_estimator_\n",
    "xgb_model_bestPCA.fit(X_trainPCA, y_trainPCA)\n",
    "\n",
    "print(\"These are the score after tuning the XGBoost Model\")\n",
    "\n",
    "XGBPCAScoreTrain = xgb_model_bestPCA.score(X_trainPCA, y_trainPCA)\n",
    "XGBPCAScoreTest = xgb_model_bestPCA.score(X_testPCA, y_testPCA)\n",
    "print(XGBPCAScoreTrain)\n",
    "print(XGBPCAScoreTest)"
   ]
  },
  {
   "cell_type": "markdown",
   "metadata": {},
   "source": [
    "### Feature Importance (using Extra Tree Classifier)"
   ]
  },
  {
   "cell_type": "markdown",
   "metadata": {},
   "source": [
    "Since PCA didn't help improve the performance of our models, we'll try to use Extra Tree Classifier from sklearn for most important feature selection. Extra Tree Classifier allows us to select the top n number of features from the dataset"
   ]
  },
  {
   "cell_type": "code",
   "execution_count": 56,
   "metadata": {},
   "outputs": [
    {
     "name": "stdout",
     "output_type": "stream",
     "text": [
      "\n"
     ]
    },
    {
     "data": {
      "image/png": "[encoded data removed]",
      "text/plain": [
       "<Figure size 1440x720 with 1 Axes>"
      ]
     },
     "metadata": {
      "needs_background": "light"
     },
     "output_type": "display_data"
    }
   ],
   "source": [
    "from sklearn.ensemble import ExtraTreesClassifier\n",
    "\n",
    "extTreeClassModel = ExtraTreesClassifier()\n",
    "extTreeClassModel.fit(copyOrigPreds, y)\n",
    "\n",
    "print()\n",
    "\n",
    "featImports = pd.Series(extTreeClassModel.feature_importances_, index=copyOrigPreds.columns)\n",
    "\n",
    "# let's create a plot of the scores for each of the predictors\n",
    "# the score for each feature tell you how important the predictor is towards the target variable\n",
    "featImports.nlargest(len(copyOrigPreds.columns)).plot(kind='barh')\n",
    "\n",
    "# you might need to double click the plot in order to zoom in and see it better\n",
    "plt.rcParams[\"figure.figsize\"] = (15, 7)\n",
    "plt.show()"
   ]
  },
  {
   "cell_type": "markdown",
   "metadata": {},
   "source": [
    "From this, you can see that none of them have a significant importance towards the target variable since all of them have pretty low scores and most of them have around the same importance/score (besides '+/1' and 'WIN%' sorta)"
   ]
  },
  {
   "cell_type": "code",
   "execution_count": 45,
   "metadata": {},
   "outputs": [
    {
     "name": "stdout",
     "output_type": "stream",
     "text": [
      "{'OREB', '+/-', 'FG%', 'TOV', 'STL', '3P%', 'WIN%', 'FT%', 'BLK', 'FGA'}\n"
     ]
    }
   ],
   "source": [
    "# let's get the top 10 features\n",
    "\n",
    "colsOfTop10 = set([i for i in featImports.nlargest(10).index])\n",
    "print(colsOfTop10)"
   ]
  },
  {
   "cell_type": "code",
   "execution_count": 46,
   "metadata": {},
   "outputs": [],
   "source": [
    "# now, we'll create a new set of predictors that contains only the top 10 predictors\n",
    "\n",
    "predsTop10 = copy.deepcopy(copyOrigPreds)\n",
    "\n",
    "for col in copyOrigPreds.columns:\n",
    "    if col not in colsOfTop10:\n",
    "        predsTop10 = predsTop10.drop(columns = col)"
   ]
  },
  {
   "cell_type": "code",
   "execution_count": 47,
   "metadata": {},
   "outputs": [
    {
     "name": "stdout",
     "output_type": "stream",
     "text": [
      "Verifying if we did manage to get a subset of the top 10 features of the original set of predictors\n"
     ]
    },
    {
     "data": {
      "text/html": [
       "<div>\n",
       "<style scoped>\n",
       "    .dataframe tbody tr th:only-of-type {\n",
       "        vertical-align: middle;\n",
       "    }\n",
       "\n",
       "    .dataframe tbody tr th {\n",
       "        vertical-align: top;\n",
       "    }\n",
       "\n",
       "    .dataframe thead th {\n",
       "        text-align: right;\n",
       "    }\n",
       "</style>\n",
       "<table border=\"1\" class=\"dataframe\">\n",
       "  <thead>\n",
       "    <tr style=\"text-align: right;\">\n",
       "      <th></th>\n",
       "      <th>WIN%</th>\n",
       "      <th>FGA</th>\n",
       "      <th>FG%</th>\n",
       "      <th>3P%</th>\n",
       "      <th>FT%</th>\n",
       "      <th>OREB</th>\n",
       "      <th>TOV</th>\n",
       "      <th>STL</th>\n",
       "      <th>BLK</th>\n",
       "      <th>+/-</th>\n",
       "    </tr>\n",
       "  </thead>\n",
       "  <tbody>\n",
       "    <tr>\n",
       "      <th>1</th>\n",
       "      <td>0.598</td>\n",
       "      <td>90.5</td>\n",
       "      <td>46.5</td>\n",
       "      <td>36.5</td>\n",
       "      <td>80.2</td>\n",
       "      <td>9.8</td>\n",
       "      <td>12.8</td>\n",
       "      <td>8.6</td>\n",
       "      <td>5.3</td>\n",
       "      <td>4.4</td>\n",
       "    </tr>\n",
       "    <tr>\n",
       "      <th>2</th>\n",
       "      <td>0.512</td>\n",
       "      <td>89.7</td>\n",
       "      <td>44.9</td>\n",
       "      <td>35.3</td>\n",
       "      <td>74.5</td>\n",
       "      <td>11.0</td>\n",
       "      <td>15.1</td>\n",
       "      <td>6.6</td>\n",
       "      <td>4.1</td>\n",
       "      <td>-0.1</td>\n",
       "    </tr>\n",
       "    <tr>\n",
       "      <th>7</th>\n",
       "      <td>0.659</td>\n",
       "      <td>90.0</td>\n",
       "      <td>46.6</td>\n",
       "      <td>35.1</td>\n",
       "      <td>75.5</td>\n",
       "      <td>11.9</td>\n",
       "      <td>13.4</td>\n",
       "      <td>7.7</td>\n",
       "      <td>4.4</td>\n",
       "      <td>4.0</td>\n",
       "    </tr>\n",
       "    <tr>\n",
       "      <th>8</th>\n",
       "      <td>0.500</td>\n",
       "      <td>88.3</td>\n",
       "      <td>44.0</td>\n",
       "      <td>34.8</td>\n",
       "      <td>74.7</td>\n",
       "      <td>11.4</td>\n",
       "      <td>13.8</td>\n",
       "      <td>6.9</td>\n",
       "      <td>4.0</td>\n",
       "      <td>-0.2</td>\n",
       "    </tr>\n",
       "    <tr>\n",
       "      <th>9</th>\n",
       "      <td>0.695</td>\n",
       "      <td>89.8</td>\n",
       "      <td>49.1</td>\n",
       "      <td>38.5</td>\n",
       "      <td>80.1</td>\n",
       "      <td>9.7</td>\n",
       "      <td>14.3</td>\n",
       "      <td>7.6</td>\n",
       "      <td>6.4</td>\n",
       "      <td>6.5</td>\n",
       "    </tr>\n",
       "    <tr>\n",
       "      <th>...</th>\n",
       "      <td>...</td>\n",
       "      <td>...</td>\n",
       "      <td>...</td>\n",
       "      <td>...</td>\n",
       "      <td>...</td>\n",
       "      <td>...</td>\n",
       "      <td>...</td>\n",
       "      <td>...</td>\n",
       "      <td>...</td>\n",
       "      <td>...</td>\n",
       "    </tr>\n",
       "    <tr>\n",
       "      <th>558</th>\n",
       "      <td>0.610</td>\n",
       "      <td>78.3</td>\n",
       "      <td>46.8</td>\n",
       "      <td>34.9</td>\n",
       "      <td>76.2</td>\n",
       "      <td>11.7</td>\n",
       "      <td>15.3</td>\n",
       "      <td>8.2</td>\n",
       "      <td>5.1</td>\n",
       "      <td>4.2</td>\n",
       "    </tr>\n",
       "    <tr>\n",
       "      <th>559</th>\n",
       "      <td>0.671</td>\n",
       "      <td>85.0</td>\n",
       "      <td>44.9</td>\n",
       "      <td>35.4</td>\n",
       "      <td>77.1</td>\n",
       "      <td>12.0</td>\n",
       "      <td>14.9</td>\n",
       "      <td>9.7</td>\n",
       "      <td>5.3</td>\n",
       "      <td>5.8</td>\n",
       "    </tr>\n",
       "    <tr>\n",
       "      <th>560</th>\n",
       "      <td>0.707</td>\n",
       "      <td>76.4</td>\n",
       "      <td>46.1</td>\n",
       "      <td>40.7</td>\n",
       "      <td>71.5</td>\n",
       "      <td>11.0</td>\n",
       "      <td>14.0</td>\n",
       "      <td>6.9</td>\n",
       "      <td>7.0</td>\n",
       "      <td>7.8</td>\n",
       "    </tr>\n",
       "    <tr>\n",
       "      <th>562</th>\n",
       "      <td>0.573</td>\n",
       "      <td>85.0</td>\n",
       "      <td>43.7</td>\n",
       "      <td>36.9</td>\n",
       "      <td>74.7</td>\n",
       "      <td>13.6</td>\n",
       "      <td>13.2</td>\n",
       "      <td>7.3</td>\n",
       "      <td>6.3</td>\n",
       "      <td>2.3</td>\n",
       "    </tr>\n",
       "    <tr>\n",
       "      <th>563</th>\n",
       "      <td>0.646</td>\n",
       "      <td>76.7</td>\n",
       "      <td>47.1</td>\n",
       "      <td>38.1</td>\n",
       "      <td>75.2</td>\n",
       "      <td>11.5</td>\n",
       "      <td>15.8</td>\n",
       "      <td>8.1</td>\n",
       "      <td>5.6</td>\n",
       "      <td>4.7</td>\n",
       "    </tr>\n",
       "  </tbody>\n",
       "</table>\n",
       "<p>304 rows × 10 columns</p>\n",
       "</div>"
      ],
      "text/plain": [
       "      WIN%   FGA   FG%   3P%   FT%  OREB   TOV  STL  BLK  +/-\n",
       "1    0.598  90.5  46.5  36.5  80.2   9.8  12.8  8.6  5.3  4.4\n",
       "2    0.512  89.7  44.9  35.3  74.5  11.0  15.1  6.6  4.1 -0.1\n",
       "7    0.659  90.0  46.6  35.1  75.5  11.9  13.4  7.7  4.4  4.0\n",
       "8    0.500  88.3  44.0  34.8  74.7  11.4  13.8  6.9  4.0 -0.2\n",
       "9    0.695  89.8  49.1  38.5  80.1   9.7  14.3  7.6  6.4  6.5\n",
       "..     ...   ...   ...   ...   ...   ...   ...  ...  ...  ...\n",
       "558  0.610  78.3  46.8  34.9  76.2  11.7  15.3  8.2  5.1  4.2\n",
       "559  0.671  85.0  44.9  35.4  77.1  12.0  14.9  9.7  5.3  5.8\n",
       "560  0.707  76.4  46.1  40.7  71.5  11.0  14.0  6.9  7.0  7.8\n",
       "562  0.573  85.0  43.7  36.9  74.7  13.6  13.2  7.3  6.3  2.3\n",
       "563  0.646  76.7  47.1  38.1  75.2  11.5  15.8  8.1  5.6  4.7\n",
       "\n",
       "[304 rows x 10 columns]"
      ]
     },
     "execution_count": 47,
     "metadata": {},
     "output_type": "execute_result"
    }
   ],
   "source": [
    "print(\"Verifying if we did manage to get a subset of the top 10 features of the original set of predictors\")\n",
    "predsTop10"
   ]
  },
  {
   "cell_type": "markdown",
   "metadata": {},
   "source": [
    "#### Now let's try to use our models (Random Forest and Boosting) on this reduced set of the top 10 predictors"
   ]
  },
  {
   "cell_type": "code",
   "execution_count": 48,
   "metadata": {},
   "outputs": [],
   "source": [
    "X_train10, X_test10, y_train10, y_test10 = train_test_split(predsTop10, y, test_size=0.40)"
   ]
  },
  {
   "cell_type": "code",
   "execution_count": 49,
   "metadata": {},
   "outputs": [
    {
     "name": "stdout",
     "output_type": "stream",
     "text": [
      "These are the baseline scores for the RF Model\n",
      "0.924234782575347\n",
      "0.27068013835917704\n",
      "\n",
      "These are the score after tuning the RF Model\n",
      "0.5723593683302676\n",
      "0.32393208114922034\n"
     ]
    }
   ],
   "source": [
    "# creating a RF model using the new dataset of the top 10 features\n",
    "\n",
    "rf = RandomForestRegressor()\n",
    "rf.fit(X_train10, y_train10)\n",
    "\n",
    "print(\"These are the baseline scores for the RF Model\")\n",
    "print(rf.score(X_train10, y_train10))\n",
    "print(rf.score(X_test10, y_test10))\n",
    "\n",
    "rf = RandomForestRegressor()\n",
    "\n",
    "parameters = {'n_estimators': [10, 20, 50], \n",
    "              'max_features': ['log2', 'sqrt','auto'], \n",
    "              'max_depth': [2, 3, 5, 10], \n",
    "              'min_samples_split': [2, 3, 5],\n",
    "              'min_samples_leaf': [1,5,8]\n",
    "             }\n",
    "\n",
    "# acc_scorer = make_scorer(accuracy_score)\n",
    "print()\n",
    "\n",
    "grid_obj = GridSearchCV(rf, parameters)\n",
    "grid_obj = grid_obj.fit(X_train10, y_train10)\n",
    "\n",
    "rf10 = grid_obj.best_estimator_\n",
    "rf10.fit(X_train10, y_train10)\n",
    "\n",
    "print(\"These are the score after tuning the RF Model\")\n",
    "\n",
    "RF10ScoreTrain = rf10.score(X_train10, y_train10)\n",
    "RF10ScoreTest = rf10.score(X_test10, y_test10)\n",
    "print(RF10ScoreTrain)\n",
    "print(RF10ScoreTest)"
   ]
  },
  {
   "cell_type": "code",
   "execution_count": 50,
   "metadata": {},
   "outputs": [
    {
     "name": "stdout",
     "output_type": "stream",
     "text": [
      "These are the baseline scores for the XGBoost Model\n",
      "0.9999999686186734\n",
      "0.09931888501875996\n",
      "\n",
      "These are the score after tuning the XGBoost Model\n",
      "0.7383025765302353\n",
      "0.2591819427544214\n"
     ]
    }
   ],
   "source": [
    "# creating a XGBoost model using the new dataset of the top 10 features\n",
    "\n",
    "param = {'max_depth': 2, 'eta': 1, 'objective': 'binary:logistic'}\n",
    "param['nthread'] = 4\n",
    "param['eval_metric'] = 'auc'\n",
    "\n",
    "xgb_model = xgb.XGBRegressor(objective='reg:squarederror').fit(X_train10, y_train10)\n",
    "\n",
    "print(\"These are the baseline scores for the XGBoost Model\")\n",
    "print(xgb_model.score(X_train10, y_train10))\n",
    "print(xgb_model.score(X_test10, y_test10))\n",
    "\n",
    "warnings.simplefilter(action='ignore', category=FutureWarning)\n",
    "\n",
    "clf = GridSearchCV(xgb_model,\n",
    "                   {'max_depth': [2,3],\n",
    "                    'n_estimators': [20, 50, 100]\n",
    "                   })\n",
    "clf.fit(X_train10, y_train10)\n",
    "\n",
    "print()\n",
    "\n",
    "xgb_model_best10 = clf.best_estimator_\n",
    "xgb_model_best10.fit(X_train10, y_train10)\n",
    "\n",
    "print(\"These are the score after tuning the XGBoost Model\")\n",
    "\n",
    "XGB10ScoreTrain = xgb_model_best10.score(X_train10, y_train10)\n",
    "XGB10ScoreTest = xgb_model_best10.score(X_test10, y_test10)\n",
    "print(XGB10ScoreTrain)\n",
    "print(XGB10ScoreTest)"
   ]
  },
  {
   "cell_type": "markdown",
   "metadata": {},
   "source": [
    "## Results and Analysis"
   ]
  },
  {
   "cell_type": "code",
   "execution_count": 51,
   "metadata": {},
   "outputs": [
    {
     "name": "stdout",
     "output_type": "stream",
     "text": [
      "\t\t\t\t\t RF Model\t\t\t XGBoost Model\n",
      "----------------------------------------------------------------------------------------------\n",
      "Normal Train Score:\t\t\t 0.6473011600425493 \t\t 0.9182325075912958\n",
      "Normal Test Score:\t\t\t 0.3282388899619366 \t\t 0.26585080444664044\n",
      "\n",
      "PCA Train Score:\t\t\t 0.600065400121983 \t\t 0.7479256043612509\n",
      "PCA Test Score:\t\t\t\t 0.2069386341727157 \t\t 0.22268807315848693\n",
      "\n",
      "Top 10 Train Score:\t\t\t 0.5723593683302676 \t\t 0.7383025765302353\n",
      "Top 10 Test Score:\t\t\t 0.32393208114922034 \t\t 0.2591819427544214\n",
      "----------------------------------------------------------------------------------------------\n"
     ]
    }
   ],
   "source": [
    "def displayRSquaredScoreResults():\n",
    "    print('\\t\\t\\t\\t\\t RF Model\\t\\t\\t XGBoost Model')\n",
    "    print('----------------------------------------------------------------------------------------------')\n",
    "    print('Normal Train Score' + ':\\t\\t\\t', RFScoreTrain, '\\t\\t', XGBScoreTrain)\n",
    "    print('Normal Test Score' + ':\\t\\t\\t', RFScoreTest, '\\t\\t', XGBScoreTest)\n",
    "    print()\n",
    "    print('PCA Train Score' + ':\\t\\t\\t', RFPCAScoreTrain, '\\t\\t', XGBPCAScoreTrain)\n",
    "    print('PCA Test Score' + ':\\t\\t\\t\\t', RFPCAScoreTest, '\\t\\t', XGBPCAScoreTest)\n",
    "    print()\n",
    "    print('Top 10 Train Score' + ':\\t\\t\\t', RF10ScoreTrain, '\\t\\t', XGB10ScoreTrain)\n",
    "    print('Top 10 Test Score' + ':\\t\\t\\t', RF10ScoreTest, '\\t\\t', XGB10ScoreTest)\n",
    "    print('----------------------------------------------------------------------------------------------')\n",
    "    \n",
    "displayRSquaredScoreResults()"
   ]
  },
  {
   "cell_type": "markdown",
   "metadata": {},
   "source": [
    "From this, you can see that the normal models of both the Random Forest and the XGBoost did worse when using PCA on the predictors. Moreover, both Random Forest and XGBoost performed about as well as using the top 10 features for the predictors when comparing them with using the normal/full set of predictors (in regards to the test scores). Perhaps this is because the models do need to consider/utilize the entire set of predictors in order to perform the best rather than just a subset of the predictors as in PCA and the top 10 features. After all, none of the features have a strong importance with playoff wins as we discovered in the feature importance we did before."
   ]
  },
  {
   "cell_type": "code",
   "execution_count": 54,
   "metadata": {},
   "outputs": [
    {
     "name": "stdout",
     "output_type": "stream",
     "text": [
      "\t\t\t\t\t RF Model\t\t\t XGBoost Model\n",
      "----------------------------------------------------------------------------------------------\n",
      "Normal Test MAE:\t\t\t 2.985491803278688 \t\t 3.0478341853032345\n",
      "PCA Test MAE:\t\t\t\t 3.9230888031658377 \t\t 4.192431339963537\n",
      "Top 10 Test MAE:\t\t\t 3.9387079612813274 \t\t 4.226722723147908\n",
      "----------------------------------------------------------------------------------------------\n"
     ]
    }
   ],
   "source": [
    "from sklearn.metrics import mean_absolute_error\n",
    "\n",
    "def displayTestMAEResults():\n",
    "    global y_test\n",
    "    \n",
    "    rf.fit(X_train, y_train)\n",
    "    \n",
    "    y_pred_RF = rf.predict(X_test)\n",
    "    y_predPCA_RF = rfPCA.predict(X_testPCA)\n",
    "    y_pred10_RF = rf10.predict(X_test10)\n",
    "    \n",
    "    # we have to make sure the the type of the y data sets are \"<class 'list'>\"\n",
    "    # in order to use the mean_absolute_error function\n",
    "    if str(type(y_pred_RF)) != \"<class 'list'>\":\n",
    "        y_pred_RF = y_pred_RF.tolist()\n",
    "    \n",
    "    if str(type(y_predPCA_RF)) != \"<class 'list'>\":\n",
    "        y_predPCA_RF = y_predPCA_RF.tolist()\n",
    "        \n",
    "    if str(type(y_pred10_RF)) != \"<class 'list'>\":\n",
    "        y_pred10_RF = y_pred10_RF.tolist()\n",
    "        \n",
    "    y_pred_XGB = xgb_model_best.predict(X_test)\n",
    "    y_predPCA_XGB = xgb_model_bestPCA.predict(X_testPCA)\n",
    "    y_pred10_XGB = xgb_model_best10.predict(X_test10)\n",
    "    \n",
    "    if str(type(y_pred_XGB)) != \"<class 'list'>\":\n",
    "        y_pred_XGB = y_pred_XGB.tolist()\n",
    "    \n",
    "    if str(type(y_predPCA_XGB)) != \"<class 'list'>\":\n",
    "        y_predPCA_XGB = y_predPCA_XGB.tolist()\n",
    "        \n",
    "    if str(type(y_pred10_XGB)) != \"<class 'list'>\":\n",
    "        y_pred10_XGB = y_pred10_XGB.tolist()\n",
    "    \n",
    "    # have to check the y_test\n",
    "    if str(type(y_test)) != \"<class 'list'>\":\n",
    "        y_test = y_test.tolist()\n",
    "\n",
    "    MAE_RF = mean_absolute_error(y_test, y_pred_RF)\n",
    "    MAE_PCA_RF = mean_absolute_error(y_test, y_predPCA_RF)\n",
    "    MAE_10_RF = mean_absolute_error(y_test, y_pred10_RF)\n",
    "    \n",
    "    MAE_XGB = mean_absolute_error(y_test, y_pred_XGB)\n",
    "    MAE_PCA_XGB = mean_absolute_error(y_test, y_predPCA_XGB)\n",
    "    MAE_10_XGB = mean_absolute_error(y_test, y_pred10_XGB)\n",
    "\n",
    "    print('\\t\\t\\t\\t\\t RF Model\\t\\t\\t XGBoost Model')\n",
    "    print('----------------------------------------------------------------------------------------------')\n",
    "    print('Normal Test MAE' + ':\\t\\t\\t', MAE_RF, '\\t\\t', MAE_XGB)\n",
    "    print('PCA Test MAE' + ':\\t\\t\\t\\t', MAE_PCA_RF, '\\t\\t', MAE_PCA_XGB)\n",
    "    print('Top 10 Test MAE' + ':\\t\\t\\t', MAE_10_RF, '\\t\\t', MAE_10_XGB)\n",
    "    print('----------------------------------------------------------------------------------------------')\n",
    "    \n",
    "displayTestMAEResults()"
   ]
  },
  {
   "cell_type": "markdown",
   "metadata": {},
   "source": [
    "Using this metric, you can see that the normal models performs better since on average the normal models are off by around 3 wins on average while the models with the PCA or top 10 features are off by around 4 on average. This provides further proof that the model does perform better when considering the entire set of predictors rather than just a subset of them."
   ]
  },
  {
   "cell_type": "code",
   "execution_count": null,
   "metadata": {},
   "outputs": [],
   "source": []
  }
 ],
 "metadata": {
  "kernelspec": {
   "display_name": "Python 3",
   "language": "python",
   "name": "python3"
  },
  "language_info": {
   "codemirror_mode": {
    "name": "ipython",
    "version": 3
   },
   "file_extension": ".py",
   "mimetype": "text/x-python",
   "name": "python",
   "nbconvert_exporter": "python",
   "pygments_lexer": "ipython3",
   "version": "3.7.6"
  }
 },
 "nbformat": 4,
 "nbformat_minor": 2
}
